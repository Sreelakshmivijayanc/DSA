{
 "cells": [
  {
   "cell_type": "markdown",
   "id": "2d46e60c",
   "metadata": {},
   "source": [
    "# Importing Libraries"
   ]
  },
  {
   "cell_type": "code",
   "execution_count": 1,
   "id": "c586353a",
   "metadata": {},
   "outputs": [],
   "source": [
    "import numpy as np\n",
    "import pandas as pd\n",
    "import seaborn as sns\n",
    "import matplotlib.pyplot as plt"
   ]
  },
  {
   "cell_type": "markdown",
   "id": "3800769b",
   "metadata": {},
   "source": [
    "# Importing dataset to the python enviornment\n"
   ]
  },
  {
   "cell_type": "code",
   "execution_count": 2,
   "id": "abf9bde8",
   "metadata": {},
   "outputs": [
    {
     "data": {
      "text/html": [
       "<div>\n",
       "<style scoped>\n",
       "    .dataframe tbody tr th:only-of-type {\n",
       "        vertical-align: middle;\n",
       "    }\n",
       "\n",
       "    .dataframe tbody tr th {\n",
       "        vertical-align: top;\n",
       "    }\n",
       "\n",
       "    .dataframe thead th {\n",
       "        text-align: right;\n",
       "    }\n",
       "</style>\n",
       "<table border=\"1\" class=\"dataframe\">\n",
       "  <thead>\n",
       "    <tr style=\"text-align: right;\">\n",
       "      <th></th>\n",
       "      <th>instance_id</th>\n",
       "      <th>track_name</th>\n",
       "      <th>popularity</th>\n",
       "      <th>acousticness</th>\n",
       "      <th>danceability</th>\n",
       "      <th>duration_ms</th>\n",
       "      <th>energy</th>\n",
       "      <th>instrumentalness</th>\n",
       "      <th>key</th>\n",
       "      <th>liveness</th>\n",
       "      <th>loudness</th>\n",
       "      <th>voice_gender</th>\n",
       "      <th>mode</th>\n",
       "      <th>speechiness</th>\n",
       "      <th>tempo</th>\n",
       "      <th>musician_category</th>\n",
       "      <th>valence</th>\n",
       "      <th>music_genre</th>\n",
       "    </tr>\n",
       "  </thead>\n",
       "  <tbody>\n",
       "    <tr>\n",
       "      <th>0</th>\n",
       "      <td>MSC_83537.0</td>\n",
       "      <td>Estrellitas y Duendes</td>\n",
       "      <td>49.178</td>\n",
       "      <td>0.970522</td>\n",
       "      <td>0.580508</td>\n",
       "      <td>214625.776</td>\n",
       "      <td>0.192107</td>\n",
       "      <td>0.000000</td>\n",
       "      <td>Scale E</td>\n",
       "      <td>0.147134</td>\n",
       "      <td>-14.140</td>\n",
       "      <td>NaN</td>\n",
       "      <td>Major</td>\n",
       "      <td>0.046404</td>\n",
       "      <td>143.788</td>\n",
       "      <td>Band</td>\n",
       "      <td>0.598965</td>\n",
       "      <td>Jazz</td>\n",
       "    </tr>\n",
       "    <tr>\n",
       "      <th>1</th>\n",
       "      <td>MSC_22044.0</td>\n",
       "      <td>Al Norte</td>\n",
       "      <td>59.827</td>\n",
       "      <td>1.009380</td>\n",
       "      <td>0.687542</td>\n",
       "      <td>216232.195</td>\n",
       "      <td>0.265942</td>\n",
       "      <td>0.000030</td>\n",
       "      <td>Scale A</td>\n",
       "      <td>0.174655</td>\n",
       "      <td>-13.716</td>\n",
       "      <td>Male</td>\n",
       "      <td>?</td>\n",
       "      <td>0.039949</td>\n",
       "      <td>?</td>\n",
       "      <td>Band</td>\n",
       "      <td>0.357194</td>\n",
       "      <td>Jazz</td>\n",
       "    </tr>\n",
       "    <tr>\n",
       "      <th>2</th>\n",
       "      <td>MSC_62017.0</td>\n",
       "      <td>Yeah! (feat. Lil Jon &amp; Ludacris)</td>\n",
       "      <td>89.023</td>\n",
       "      <td>0.020041</td>\n",
       "      <td>0.967948</td>\n",
       "      <td>273314.723</td>\n",
       "      <td>0.857411</td>\n",
       "      <td>0.000000</td>\n",
       "      <td>Scale D</td>\n",
       "      <td>0.042030</td>\n",
       "      <td>-4.995</td>\n",
       "      <td>Female</td>\n",
       "      <td>Major</td>\n",
       "      <td>0.119917</td>\n",
       "      <td>105.018</td>\n",
       "      <td>Band</td>\n",
       "      <td>0.635525</td>\n",
       "      <td>Rap</td>\n",
       "    </tr>\n",
       "    <tr>\n",
       "      <th>3</th>\n",
       "      <td>MSC_76365.0</td>\n",
       "      <td>Can’t You See</td>\n",
       "      <td>55.762</td>\n",
       "      <td>0.010284</td>\n",
       "      <td>0.616287</td>\n",
       "      <td>189189.605</td>\n",
       "      <td>0.970513</td>\n",
       "      <td>0.000220</td>\n",
       "      <td>Scale D</td>\n",
       "      <td>0.124637</td>\n",
       "      <td>-4.262</td>\n",
       "      <td>Both</td>\n",
       "      <td>Major</td>\n",
       "      <td>0.167493</td>\n",
       "      <td>?</td>\n",
       "      <td>Duet</td>\n",
       "      <td>0.983750</td>\n",
       "      <td>Rock</td>\n",
       "    </tr>\n",
       "    <tr>\n",
       "      <th>4</th>\n",
       "      <td>MSC_71493.0</td>\n",
       "      <td>Sonata III (G Moll), BWV 1029: Adagio</td>\n",
       "      <td>45.095</td>\n",
       "      <td>0.858769</td>\n",
       "      <td>0.280645</td>\n",
       "      <td>410136.987</td>\n",
       "      <td>0.114732</td>\n",
       "      <td>0.002753</td>\n",
       "      <td>Scale F Sharp</td>\n",
       "      <td>0.134782</td>\n",
       "      <td>-26.922</td>\n",
       "      <td>Female</td>\n",
       "      <td>Minor</td>\n",
       "      <td>0.039139</td>\n",
       "      <td>112.183</td>\n",
       "      <td>Band</td>\n",
       "      <td>0.074412</td>\n",
       "      <td>Classical</td>\n",
       "    </tr>\n",
       "    <tr>\n",
       "      <th>...</th>\n",
       "      <td>...</td>\n",
       "      <td>...</td>\n",
       "      <td>...</td>\n",
       "      <td>...</td>\n",
       "      <td>...</td>\n",
       "      <td>...</td>\n",
       "      <td>...</td>\n",
       "      <td>...</td>\n",
       "      <td>...</td>\n",
       "      <td>...</td>\n",
       "      <td>...</td>\n",
       "      <td>...</td>\n",
       "      <td>...</td>\n",
       "      <td>...</td>\n",
       "      <td>...</td>\n",
       "      <td>...</td>\n",
       "      <td>...</td>\n",
       "      <td>...</td>\n",
       "    </tr>\n",
       "    <tr>\n",
       "      <th>15676</th>\n",
       "      <td>MSC_73047.0</td>\n",
       "      <td>I. Andante</td>\n",
       "      <td>0.000</td>\n",
       "      <td>0.866988</td>\n",
       "      <td>0.387476</td>\n",
       "      <td>-1.000</td>\n",
       "      <td>0.196799</td>\n",
       "      <td>0.028725</td>\n",
       "      <td>Scale B</td>\n",
       "      <td>0.248399</td>\n",
       "      <td>-16.331</td>\n",
       "      <td>Female</td>\n",
       "      <td>Major</td>\n",
       "      <td>0.045251</td>\n",
       "      <td>123.516</td>\n",
       "      <td>Band</td>\n",
       "      <td>0.624518</td>\n",
       "      <td>Classical</td>\n",
       "    </tr>\n",
       "    <tr>\n",
       "      <th>15677</th>\n",
       "      <td>MSC_34472.0</td>\n",
       "      <td>Only Trust Your Heart</td>\n",
       "      <td>40.514</td>\n",
       "      <td>0.883333</td>\n",
       "      <td>0.459917</td>\n",
       "      <td>378128.464</td>\n",
       "      <td>0.349263</td>\n",
       "      <td>0.000519</td>\n",
       "      <td>Scale F</td>\n",
       "      <td>0.681492</td>\n",
       "      <td>-25.087</td>\n",
       "      <td>Both</td>\n",
       "      <td>Major</td>\n",
       "      <td>0.448377</td>\n",
       "      <td>129.445</td>\n",
       "      <td>Duet</td>\n",
       "      <td>0.609022</td>\n",
       "      <td>Jazz</td>\n",
       "    </tr>\n",
       "    <tr>\n",
       "      <th>15678</th>\n",
       "      <td>MSC_32827.0</td>\n",
       "      <td>Moment's Notice</td>\n",
       "      <td>35.082</td>\n",
       "      <td>0.905281</td>\n",
       "      <td>0.566619</td>\n",
       "      <td>581799.061</td>\n",
       "      <td>0.543673</td>\n",
       "      <td>0.209238</td>\n",
       "      <td>Scale D Sharp</td>\n",
       "      <td>0.416611</td>\n",
       "      <td>-10.246</td>\n",
       "      <td>Female</td>\n",
       "      <td>Major</td>\n",
       "      <td>0.040625</td>\n",
       "      <td>123.17</td>\n",
       "      <td>NaN</td>\n",
       "      <td>0.869294</td>\n",
       "      <td>Jazz</td>\n",
       "    </tr>\n",
       "    <tr>\n",
       "      <th>15679</th>\n",
       "      <td>MSC_89976.0</td>\n",
       "      <td>Such Small Scenes</td>\n",
       "      <td>59.693</td>\n",
       "      <td>0.113408</td>\n",
       "      <td>0.644554</td>\n",
       "      <td>151226.592</td>\n",
       "      <td>0.912201</td>\n",
       "      <td>0.000089</td>\n",
       "      <td>Scale F</td>\n",
       "      <td>0.166336</td>\n",
       "      <td>-7.257</td>\n",
       "      <td>Both</td>\n",
       "      <td>Minor</td>\n",
       "      <td>0.060308</td>\n",
       "      <td>116.077</td>\n",
       "      <td>Duet</td>\n",
       "      <td>0.402700</td>\n",
       "      <td>Rock</td>\n",
       "    </tr>\n",
       "    <tr>\n",
       "      <th>15680</th>\n",
       "      <td>MSC_43297.0</td>\n",
       "      <td>Dogs of War</td>\n",
       "      <td>56.518</td>\n",
       "      <td>0.847136</td>\n",
       "      <td>0.502160</td>\n",
       "      <td>190735.191</td>\n",
       "      <td>0.470057</td>\n",
       "      <td>0.502878</td>\n",
       "      <td>Scale F</td>\n",
       "      <td>0.143114</td>\n",
       "      <td>-11.043</td>\n",
       "      <td>Female</td>\n",
       "      <td>Major</td>\n",
       "      <td>0.029906</td>\n",
       "      <td>94.2</td>\n",
       "      <td>Solo</td>\n",
       "      <td>0.358777</td>\n",
       "      <td>Classical</td>\n",
       "    </tr>\n",
       "  </tbody>\n",
       "</table>\n",
       "<p>15681 rows × 18 columns</p>\n",
       "</div>"
      ],
      "text/plain": [
       "       instance_id                             track_name  popularity  \\\n",
       "0      MSC_83537.0                  Estrellitas y Duendes      49.178   \n",
       "1      MSC_22044.0                               Al Norte      59.827   \n",
       "2      MSC_62017.0       Yeah! (feat. Lil Jon & Ludacris)      89.023   \n",
       "3      MSC_76365.0                          Can’t You See      55.762   \n",
       "4      MSC_71493.0  Sonata III (G Moll), BWV 1029: Adagio      45.095   \n",
       "...            ...                                    ...         ...   \n",
       "15676  MSC_73047.0                             I. Andante       0.000   \n",
       "15677  MSC_34472.0                  Only Trust Your Heart      40.514   \n",
       "15678  MSC_32827.0                        Moment's Notice      35.082   \n",
       "15679  MSC_89976.0                      Such Small Scenes      59.693   \n",
       "15680  MSC_43297.0                            Dogs of War      56.518   \n",
       "\n",
       "       acousticness  danceability  duration_ms    energy  instrumentalness  \\\n",
       "0          0.970522      0.580508   214625.776  0.192107          0.000000   \n",
       "1          1.009380      0.687542   216232.195  0.265942          0.000030   \n",
       "2          0.020041      0.967948   273314.723  0.857411          0.000000   \n",
       "3          0.010284      0.616287   189189.605  0.970513          0.000220   \n",
       "4          0.858769      0.280645   410136.987  0.114732          0.002753   \n",
       "...             ...           ...          ...       ...               ...   \n",
       "15676      0.866988      0.387476       -1.000  0.196799          0.028725   \n",
       "15677      0.883333      0.459917   378128.464  0.349263          0.000519   \n",
       "15678      0.905281      0.566619   581799.061  0.543673          0.209238   \n",
       "15679      0.113408      0.644554   151226.592  0.912201          0.000089   \n",
       "15680      0.847136      0.502160   190735.191  0.470057          0.502878   \n",
       "\n",
       "                 key  liveness  loudness voice_gender   mode  speechiness  \\\n",
       "0            Scale E  0.147134   -14.140          NaN  Major     0.046404   \n",
       "1            Scale A  0.174655   -13.716         Male      ?     0.039949   \n",
       "2            Scale D  0.042030    -4.995       Female  Major     0.119917   \n",
       "3            Scale D  0.124637    -4.262         Both  Major     0.167493   \n",
       "4      Scale F Sharp  0.134782   -26.922       Female  Minor     0.039139   \n",
       "...              ...       ...       ...          ...    ...          ...   \n",
       "15676        Scale B  0.248399   -16.331       Female  Major     0.045251   \n",
       "15677        Scale F  0.681492   -25.087         Both  Major     0.448377   \n",
       "15678  Scale D Sharp  0.416611   -10.246       Female  Major     0.040625   \n",
       "15679        Scale F  0.166336    -7.257         Both  Minor     0.060308   \n",
       "15680        Scale F  0.143114   -11.043       Female  Major     0.029906   \n",
       "\n",
       "         tempo musician_category   valence music_genre  \n",
       "0      143.788              Band  0.598965        Jazz  \n",
       "1            ?              Band  0.357194        Jazz  \n",
       "2      105.018              Band  0.635525         Rap  \n",
       "3            ?              Duet  0.983750        Rock  \n",
       "4      112.183              Band  0.074412   Classical  \n",
       "...        ...               ...       ...         ...  \n",
       "15676  123.516              Band  0.624518   Classical  \n",
       "15677  129.445              Duet  0.609022        Jazz  \n",
       "15678   123.17               NaN  0.869294        Jazz  \n",
       "15679  116.077              Duet  0.402700        Rock  \n",
       "15680     94.2              Solo  0.358777   Classical  \n",
       "\n",
       "[15681 rows x 18 columns]"
      ]
     },
     "execution_count": 2,
     "metadata": {},
     "output_type": "execute_result"
    }
   ],
   "source": [
    "data= pd.read_csv(r'C:\\Users\\SREELAKSHMI\\Downloads\\train (1).csv')\n",
    "data"
   ]
  },
  {
   "cell_type": "markdown",
   "id": "ff310e9d",
   "metadata": {},
   "source": [
    "# EDA"
   ]
  },
  {
   "cell_type": "code",
   "execution_count": 3,
   "id": "3eb7e0d6",
   "metadata": {},
   "outputs": [
    {
     "data": {
      "text/plain": [
       "(15681, 18)"
      ]
     },
     "execution_count": 3,
     "metadata": {},
     "output_type": "execute_result"
    }
   ],
   "source": [
    "data.shape"
   ]
  },
  {
   "cell_type": "code",
   "execution_count": 4,
   "id": "786439a0",
   "metadata": {},
   "outputs": [
    {
     "data": {
      "text/plain": [
       "Index(['instance_id', 'track_name', 'popularity', 'acousticness',\n",
       "       'danceability', 'duration_ms', 'energy', 'instrumentalness', 'key',\n",
       "       'liveness', 'loudness', 'voice_gender', 'mode', 'speechiness', 'tempo',\n",
       "       'musician_category', 'valence', 'music_genre'],\n",
       "      dtype='object')"
      ]
     },
     "execution_count": 4,
     "metadata": {},
     "output_type": "execute_result"
    }
   ],
   "source": [
    "data.columns"
   ]
  },
  {
   "cell_type": "code",
   "execution_count": 5,
   "id": "6a7b4212",
   "metadata": {},
   "outputs": [
    {
     "name": "stdout",
     "output_type": "stream",
     "text": [
      "<class 'pandas.core.frame.DataFrame'>\n",
      "RangeIndex: 15681 entries, 0 to 15680\n",
      "Data columns (total 18 columns):\n",
      " #   Column             Non-Null Count  Dtype  \n",
      "---  ------             --------------  -----  \n",
      " 0   instance_id        15681 non-null  object \n",
      " 1   track_name         15681 non-null  object \n",
      " 2   popularity         15039 non-null  float64\n",
      " 3   acousticness       15681 non-null  float64\n",
      " 4   danceability       15125 non-null  float64\n",
      " 5   duration_ms        15587 non-null  float64\n",
      " 6   energy             15587 non-null  float64\n",
      " 7   instrumentalness   15586 non-null  float64\n",
      " 8   key                15681 non-null  object \n",
      " 9   liveness           15681 non-null  float64\n",
      " 10  loudness           15645 non-null  float64\n",
      " 11  voice_gender       14916 non-null  object \n",
      " 12  mode               15646 non-null  object \n",
      " 13  speechiness        15655 non-null  float64\n",
      " 14  tempo              15681 non-null  object \n",
      " 15  musician_category  14321 non-null  object \n",
      " 16  valence            15004 non-null  float64\n",
      " 17  music_genre        15681 non-null  object \n",
      "dtypes: float64(10), object(8)\n",
      "memory usage: 2.2+ MB\n"
     ]
    }
   ],
   "source": [
    "data.info()"
   ]
  },
  {
   "cell_type": "code",
   "execution_count": 6,
   "id": "d18f08fd",
   "metadata": {},
   "outputs": [
    {
     "data": {
      "text/html": [
       "<div>\n",
       "<style scoped>\n",
       "    .dataframe tbody tr th:only-of-type {\n",
       "        vertical-align: middle;\n",
       "    }\n",
       "\n",
       "    .dataframe tbody tr th {\n",
       "        vertical-align: top;\n",
       "    }\n",
       "\n",
       "    .dataframe thead th {\n",
       "        text-align: right;\n",
       "    }\n",
       "</style>\n",
       "<table border=\"1\" class=\"dataframe\">\n",
       "  <thead>\n",
       "    <tr style=\"text-align: right;\">\n",
       "      <th></th>\n",
       "      <th>popularity</th>\n",
       "      <th>acousticness</th>\n",
       "      <th>danceability</th>\n",
       "      <th>duration_ms</th>\n",
       "      <th>energy</th>\n",
       "      <th>instrumentalness</th>\n",
       "      <th>liveness</th>\n",
       "      <th>loudness</th>\n",
       "      <th>speechiness</th>\n",
       "      <th>valence</th>\n",
       "    </tr>\n",
       "  </thead>\n",
       "  <tbody>\n",
       "    <tr>\n",
       "      <th>count</th>\n",
       "      <td>15039.000000</td>\n",
       "      <td>15681.000000</td>\n",
       "      <td>15125.000000</td>\n",
       "      <td>1.558700e+04</td>\n",
       "      <td>15587.000000</td>\n",
       "      <td>15586.000000</td>\n",
       "      <td>15681.000000</td>\n",
       "      <td>15645.000000</td>\n",
       "      <td>15655.000000</td>\n",
       "      <td>15004.000000</td>\n",
       "    </tr>\n",
       "    <tr>\n",
       "      <th>mean</th>\n",
       "      <td>50.822720</td>\n",
       "      <td>0.446922</td>\n",
       "      <td>0.570106</td>\n",
       "      <td>2.480008e+05</td>\n",
       "      <td>0.426977</td>\n",
       "      <td>0.264290</td>\n",
       "      <td>0.194089</td>\n",
       "      <td>-11.621471</td>\n",
       "      <td>0.096411</td>\n",
       "      <td>0.451400</td>\n",
       "    </tr>\n",
       "    <tr>\n",
       "      <th>std</th>\n",
       "      <td>17.679789</td>\n",
       "      <td>0.416981</td>\n",
       "      <td>0.215045</td>\n",
       "      <td>1.568312e+05</td>\n",
       "      <td>0.514145</td>\n",
       "      <td>0.395788</td>\n",
       "      <td>0.160291</td>\n",
       "      <td>8.663364</td>\n",
       "      <td>0.105647</td>\n",
       "      <td>0.277220</td>\n",
       "    </tr>\n",
       "    <tr>\n",
       "      <th>min</th>\n",
       "      <td>0.000000</td>\n",
       "      <td>0.000002</td>\n",
       "      <td>0.063962</td>\n",
       "      <td>-1.000000e+00</td>\n",
       "      <td>-1.000000</td>\n",
       "      <td>0.000000</td>\n",
       "      <td>0.016652</td>\n",
       "      <td>-50.054000</td>\n",
       "      <td>0.023858</td>\n",
       "      <td>0.000000</td>\n",
       "    </tr>\n",
       "    <tr>\n",
       "      <th>25%</th>\n",
       "      <td>39.017000</td>\n",
       "      <td>0.044521</td>\n",
       "      <td>0.418635</td>\n",
       "      <td>1.860163e+05</td>\n",
       "      <td>0.158277</td>\n",
       "      <td>0.000000</td>\n",
       "      <td>0.101674</td>\n",
       "      <td>-15.504000</td>\n",
       "      <td>0.039549</td>\n",
       "      <td>0.212242</td>\n",
       "    </tr>\n",
       "    <tr>\n",
       "      <th>50%</th>\n",
       "      <td>54.109000</td>\n",
       "      <td>0.295272</td>\n",
       "      <td>0.586114</td>\n",
       "      <td>2.362127e+05</td>\n",
       "      <td>0.560389</td>\n",
       "      <td>0.000719</td>\n",
       "      <td>0.128784</td>\n",
       "      <td>-8.611000</td>\n",
       "      <td>0.050425</td>\n",
       "      <td>0.432478</td>\n",
       "    </tr>\n",
       "    <tr>\n",
       "      <th>75%</th>\n",
       "      <td>63.449000</td>\n",
       "      <td>0.929001</td>\n",
       "      <td>0.733073</td>\n",
       "      <td>2.975593e+05</td>\n",
       "      <td>0.791881</td>\n",
       "      <td>0.638930</td>\n",
       "      <td>0.228973</td>\n",
       "      <td>-5.715000</td>\n",
       "      <td>0.094230</td>\n",
       "      <td>0.665369</td>\n",
       "    </tr>\n",
       "    <tr>\n",
       "      <th>max</th>\n",
       "      <td>108.512000</td>\n",
       "      <td>1.094410</td>\n",
       "      <td>1.072089</td>\n",
       "      <td>3.410383e+06</td>\n",
       "      <td>1.094853</td>\n",
       "      <td>1.078601</td>\n",
       "      <td>1.080959</td>\n",
       "      <td>1.389000</td>\n",
       "      <td>1.000445</td>\n",
       "      <td>1.076971</td>\n",
       "    </tr>\n",
       "  </tbody>\n",
       "</table>\n",
       "</div>"
      ],
      "text/plain": [
       "         popularity  acousticness  danceability   duration_ms        energy  \\\n",
       "count  15039.000000  15681.000000  15125.000000  1.558700e+04  15587.000000   \n",
       "mean      50.822720      0.446922      0.570106  2.480008e+05      0.426977   \n",
       "std       17.679789      0.416981      0.215045  1.568312e+05      0.514145   \n",
       "min        0.000000      0.000002      0.063962 -1.000000e+00     -1.000000   \n",
       "25%       39.017000      0.044521      0.418635  1.860163e+05      0.158277   \n",
       "50%       54.109000      0.295272      0.586114  2.362127e+05      0.560389   \n",
       "75%       63.449000      0.929001      0.733073  2.975593e+05      0.791881   \n",
       "max      108.512000      1.094410      1.072089  3.410383e+06      1.094853   \n",
       "\n",
       "       instrumentalness      liveness      loudness   speechiness  \\\n",
       "count      15586.000000  15681.000000  15645.000000  15655.000000   \n",
       "mean           0.264290      0.194089    -11.621471      0.096411   \n",
       "std            0.395788      0.160291      8.663364      0.105647   \n",
       "min            0.000000      0.016652    -50.054000      0.023858   \n",
       "25%            0.000000      0.101674    -15.504000      0.039549   \n",
       "50%            0.000719      0.128784     -8.611000      0.050425   \n",
       "75%            0.638930      0.228973     -5.715000      0.094230   \n",
       "max            1.078601      1.080959      1.389000      1.000445   \n",
       "\n",
       "            valence  \n",
       "count  15004.000000  \n",
       "mean       0.451400  \n",
       "std        0.277220  \n",
       "min        0.000000  \n",
       "25%        0.212242  \n",
       "50%        0.432478  \n",
       "75%        0.665369  \n",
       "max        1.076971  "
      ]
     },
     "execution_count": 6,
     "metadata": {},
     "output_type": "execute_result"
    }
   ],
   "source": [
    "data.describe()"
   ]
  },
  {
   "cell_type": "code",
   "execution_count": 7,
   "id": "089f025d",
   "metadata": {},
   "outputs": [
    {
     "data": {
      "text/html": [
       "<div>\n",
       "<style scoped>\n",
       "    .dataframe tbody tr th:only-of-type {\n",
       "        vertical-align: middle;\n",
       "    }\n",
       "\n",
       "    .dataframe tbody tr th {\n",
       "        vertical-align: top;\n",
       "    }\n",
       "\n",
       "    .dataframe thead th {\n",
       "        text-align: right;\n",
       "    }\n",
       "</style>\n",
       "<table border=\"1\" class=\"dataframe\">\n",
       "  <thead>\n",
       "    <tr style=\"text-align: right;\">\n",
       "      <th></th>\n",
       "      <th>instance_id</th>\n",
       "      <th>track_name</th>\n",
       "      <th>key</th>\n",
       "      <th>voice_gender</th>\n",
       "      <th>mode</th>\n",
       "      <th>tempo</th>\n",
       "      <th>musician_category</th>\n",
       "      <th>music_genre</th>\n",
       "    </tr>\n",
       "  </thead>\n",
       "  <tbody>\n",
       "    <tr>\n",
       "      <th>count</th>\n",
       "      <td>15681</td>\n",
       "      <td>15681</td>\n",
       "      <td>15681</td>\n",
       "      <td>14916</td>\n",
       "      <td>15646</td>\n",
       "      <td>15681</td>\n",
       "      <td>14321</td>\n",
       "      <td>15681</td>\n",
       "    </tr>\n",
       "    <tr>\n",
       "      <th>unique</th>\n",
       "      <td>15681</td>\n",
       "      <td>14799</td>\n",
       "      <td>12</td>\n",
       "      <td>3</td>\n",
       "      <td>3</td>\n",
       "      <td>12332</td>\n",
       "      <td>3</td>\n",
       "      <td>7</td>\n",
       "    </tr>\n",
       "    <tr>\n",
       "      <th>top</th>\n",
       "      <td>MSC_83537.0</td>\n",
       "      <td>Smile</td>\n",
       "      <td>Scale C</td>\n",
       "      <td>Female</td>\n",
       "      <td>Major</td>\n",
       "      <td>?</td>\n",
       "      <td>Band</td>\n",
       "      <td>Classical</td>\n",
       "    </tr>\n",
       "    <tr>\n",
       "      <th>freq</th>\n",
       "      <td>1</td>\n",
       "      <td>7</td>\n",
       "      <td>1771</td>\n",
       "      <td>5050</td>\n",
       "      <td>9210</td>\n",
       "      <td>1476</td>\n",
       "      <td>4843</td>\n",
       "      <td>3990</td>\n",
       "    </tr>\n",
       "  </tbody>\n",
       "</table>\n",
       "</div>"
      ],
      "text/plain": [
       "        instance_id track_name      key voice_gender   mode  tempo  \\\n",
       "count         15681      15681    15681        14916  15646  15681   \n",
       "unique        15681      14799       12            3      3  12332   \n",
       "top     MSC_83537.0      Smile  Scale C       Female  Major      ?   \n",
       "freq              1          7     1771         5050   9210   1476   \n",
       "\n",
       "       musician_category music_genre  \n",
       "count              14321       15681  \n",
       "unique                 3           7  \n",
       "top                 Band   Classical  \n",
       "freq                4843        3990  "
      ]
     },
     "execution_count": 7,
     "metadata": {},
     "output_type": "execute_result"
    }
   ],
   "source": [
    "data.describe(include='object')"
   ]
  },
  {
   "cell_type": "code",
   "execution_count": 8,
   "id": "0f891558",
   "metadata": {},
   "outputs": [
    {
     "data": {
      "text/plain": [
       "0"
      ]
     },
     "execution_count": 8,
     "metadata": {},
     "output_type": "execute_result"
    }
   ],
   "source": [
    "data.duplicated().sum()"
   ]
  },
  {
   "cell_type": "code",
   "execution_count": 9,
   "id": "c9905699",
   "metadata": {},
   "outputs": [
    {
     "data": {
      "text/plain": [
       "Classical     3990\n",
       "Rock          3879\n",
       "Rap           3207\n",
       "Jazz          2850\n",
       "Country        683\n",
       "Electronic     614\n",
       "Hip-Hop        458\n",
       "Name: music_genre, dtype: int64"
      ]
     },
     "execution_count": 9,
     "metadata": {},
     "output_type": "execute_result"
    }
   ],
   "source": [
    "data.music_genre.value_counts()"
   ]
  },
  {
   "cell_type": "code",
   "execution_count": 37,
   "id": "8b050850",
   "metadata": {},
   "outputs": [
    {
     "data": {
      "image/png": "[encoded data removed]",
      "text/plain": [
       "<Figure size 1500x500 with 3 Axes>"
      ]
     },
     "metadata": {},
     "output_type": "display_data"
    }
   ],
   "source": [
    "plt.figure(figsize=(15,5))\n",
    "plt.subplots_adjust(left=0.125, bottom=0.1, right=0.9, top=0.9,\n",
    "                      wspace=0.5, hspace=0.2)\n",
    "\n",
    "plt.subplot(131)\n",
    "plt.xticks(rotation='vertical')\n",
    "sns.barplot(x=\"music_genre\", y=\"danceability\", data=data)\n",
    "plt.subplot(132)\n",
    "plt.xticks(rotation='vertical')\n",
    "\n",
    "sns.barplot(x=\"music_genre\", y=\"instrumentalness\", data=data)\n",
    "plt.subplot(133)\n",
    "plt.xticks(rotation='vertical')\n",
    "\n",
    "sns.barplot(x=\"music_genre\", y=\"speechiness\", data=data)\n",
    "plt.subplot(133)\n",
    "\n",
    "\n",
    "plt.show()"
   ]
  },
  {
   "cell_type": "markdown",
   "id": "0f07f48a",
   "metadata": {},
   "source": [
    "In classical music instrumentalness is very high and danceability is low.In Rap and Hip_pop speechiness is high compared to other music genre."
   ]
  },
  {
   "cell_type": "code",
   "execution_count": null,
   "id": "737777b3",
   "metadata": {},
   "outputs": [],
   "source": []
  },
  {
   "cell_type": "code",
   "execution_count": 39,
   "id": "543f013b",
   "metadata": {},
   "outputs": [
    {
     "data": {
      "image/png": "[encoded data removed]",
      "text/plain": [
       "<Figure size 1500x500 with 3 Axes>"
      ]
     },
     "metadata": {},
     "output_type": "display_data"
    }
   ],
   "source": [
    "plt.figure(figsize=(15,5))\n",
    "plt.subplots_adjust(left=0.125, bottom=0.1, right=0.9, top=0.9,\n",
    "                      wspace=0.5, hspace=0.2)\n",
    "\n",
    "plt.subplot(131)\n",
    "plt.xticks(rotation='vertical')\n",
    "sns.barplot(x=\"music_genre\", y=\"popularity\", data=data)\n",
    "plt.subplot(132)\n",
    "plt.xticks(rotation='vertical')\n",
    "\n",
    "sns.barplot(x=\"music_genre\", y=\"acousticness\", data=data)\n",
    "plt.subplot(133)\n",
    "plt.xticks(rotation='vertical')\n",
    "\n",
    "sns.barplot(x=\"music_genre\", y=\"liveness\", data=data)\n",
    "plt.subplot(133)\n",
    "\n",
    "\n",
    "plt.show()"
   ]
  },
  {
   "cell_type": "markdown",
   "id": "8f23bd64",
   "metadata": {},
   "source": [
    "Liveness almost same for all music genre.Popularity little bit high for Rap,Rock and Hip-Hop.\n"
   ]
  },
  {
   "cell_type": "code",
   "execution_count": 41,
   "id": "895ac4a1",
   "metadata": {},
   "outputs": [
    {
     "data": {
      "image/png": "[encoded data removed]",
      "text/plain": [
       "<Figure size 640x480 with 1 Axes>"
      ]
     },
     "metadata": {},
     "output_type": "display_data"
    }
   ],
   "source": [
    "plt.pie(data.music_genre.value_counts(),labels=data.music_genre.value_counts().index,autopct='%.0f%%')\n",
    "plt.show()\n"
   ]
  },
  {
   "cell_type": "code",
   "execution_count": null,
   "id": "ab5b5448",
   "metadata": {},
   "outputs": [],
   "source": [
    "In the given Dataset Rock,Classical,Rap,Jazz music genre are high. "
   ]
  },
  {
   "cell_type": "markdown",
   "id": "ef50d1bb",
   "metadata": {},
   "source": [
    "# Finding null values"
   ]
  },
  {
   "cell_type": "code",
   "execution_count": 10,
   "id": "2f460e9b",
   "metadata": {},
   "outputs": [
    {
     "data": {
      "text/plain": [
       "instance_id             0\n",
       "track_name              0\n",
       "popularity            642\n",
       "acousticness            0\n",
       "danceability          556\n",
       "duration_ms            94\n",
       "energy                 94\n",
       "instrumentalness       95\n",
       "key                     0\n",
       "liveness                0\n",
       "loudness               36\n",
       "voice_gender          765\n",
       "mode                   35\n",
       "speechiness            26\n",
       "tempo                   0\n",
       "musician_category    1360\n",
       "valence               677\n",
       "music_genre             0\n",
       "dtype: int64"
      ]
     },
     "execution_count": 10,
     "metadata": {},
     "output_type": "execute_result"
    }
   ],
   "source": [
    "data.isna().sum()"
   ]
  },
  {
   "cell_type": "markdown",
   "id": "fff38222",
   "metadata": {},
   "source": [
    "# Null value handling"
   ]
  },
  {
   "cell_type": "code",
   "execution_count": 50,
   "id": "f26dc4b9",
   "metadata": {},
   "outputs": [
    {
     "data": {
      "image/png": "[encoded data removed]",
      "text/plain": [
       "<Figure size 2000x1500 with 12 Axes>"
      ]
     },
     "metadata": {},
     "output_type": "display_data"
    }
   ],
   "source": [
    "freqgraph=data.select_dtypes(include=['float'])\n",
    "freqgraph.hist(figsize=(20,15))\n",
    "plt.show()"
   ]
  },
  {
   "cell_type": "code",
   "execution_count": 11,
   "id": "634c48a2",
   "metadata": {},
   "outputs": [],
   "source": [
    "for col in[ 'popularity', 'danceability', 'duration_ms', 'energy', 'instrumentalness', 'loudness', 'speechiness', 'valence']:\n",
    "    data[col]=data[col].fillna(data[col].median())"
   ]
  },
  {
   "cell_type": "code",
   "execution_count": 12,
   "id": "35455712",
   "metadata": {},
   "outputs": [],
   "source": [
    "for col in['voice_gender','mode','musician_category']:\n",
    "    data[col]=data[col].fillna(data[col].mode()[0])"
   ]
  },
  {
   "cell_type": "code",
   "execution_count": 13,
   "id": "8a15c948",
   "metadata": {},
   "outputs": [
    {
     "data": {
      "text/plain": [
       "instance_id          0\n",
       "track_name           0\n",
       "popularity           0\n",
       "acousticness         0\n",
       "danceability         0\n",
       "duration_ms          0\n",
       "energy               0\n",
       "instrumentalness     0\n",
       "key                  0\n",
       "liveness             0\n",
       "loudness             0\n",
       "voice_gender         0\n",
       "mode                 0\n",
       "speechiness          0\n",
       "tempo                0\n",
       "musician_category    0\n",
       "valence              0\n",
       "music_genre          0\n",
       "dtype: int64"
      ]
     },
     "execution_count": 13,
     "metadata": {},
     "output_type": "execute_result"
    }
   ],
   "source": [
    "data.isna().sum()"
   ]
  },
  {
   "cell_type": "markdown",
   "id": "17bdcb96",
   "metadata": {},
   "source": [
    "# Outlier Detection"
   ]
  },
  {
   "cell_type": "code",
   "execution_count": 14,
   "id": "4687b266",
   "metadata": {},
   "outputs": [
    {
     "data": {
      "image/png": "[encoded data removed]",
      "text/plain": [
       "<Figure size 1000x500 with 1 Axes>"
      ]
     },
     "metadata": {},
     "output_type": "display_data"
    }
   ],
   "source": [
    "x2=[['popularity', 'acousticness', 'danceability', 'duration_ms', 'energy', 'instrumentalness',\n",
    "       'liveness', 'loudness', 'speechiness', 'valence']]\n",
    "for i in x2:\n",
    "    plt.figure(figsize=(10,5))\n",
    "    plt.boxplot(data[i])\n",
    "    plt.title(i)\n",
    "    plt.show()"
   ]
  },
  {
   "cell_type": "markdown",
   "id": "3b6588bd",
   "metadata": {},
   "source": [
    "Only duration_ms column has significant outliers"
   ]
  },
  {
   "cell_type": "markdown",
   "id": "b975511e",
   "metadata": {},
   "source": [
    "# Outlier handling"
   ]
  },
  {
   "cell_type": "code",
   "execution_count": 15,
   "id": "dd85d83a",
   "metadata": {},
   "outputs": [
    {
     "name": "stdout",
     "output_type": "stream",
     "text": [
      "Q1= 186420.834\n",
      "Q2= 236212.737\n",
      "Q3= 296994.754\n",
      "IQR= 110573.92000000001\n",
      "up_lmt= 462855.634\n",
      "low_lmt= 20559.953999999998\n",
      "outliers =  [726863.483, 478311.245, 473076.754, -1.0, -1.0, -1.0, 559149.583, -1.0, -1.0, 615651.828, -1.0, 1028686.488, 999723.718, -1.0, -1.0, -1.0, 606354.828, -1.0, 618899.664, -1.0, -1.0, -1.0, -1.0, 521899.079, 545005.179, -1.0, -1.0, -1.0, -1.0, -1.0, -1.0, -1.0, 547346.298, -1.0, -1.0, 498855.648, 977850.488, 695169.427, 508853.479, 524754.299, 470025.716, -1.0, 1109747.003, -1.0, -1.0, -1.0, -1.0, -1.0, -1.0, -1.0, -1.0, -1.0, 540975.064, -1.0, -1.0, -1.0, -1.0, 520743.238, 589229.452, 596330.099, -1.0, 732622.456, 882607.682, 544295.035, 757982.4, 954002.307, -1.0, 470543.574, -1.0, -1.0, 711906.259, -1.0, 558568.811, 630195.873, -1.0, -1.0, -1.0, 635795.572, 1092151.915, -1.0, -1.0, -1.0, -1.0, -1.0, -1.0, -1.0, -1.0, -1.0, 512233.186, -1.0, 597575.235, -1.0, -1.0, -1.0, 499625.537, 723356.693, 547905.301, 632031.615, -1.0, -1.0, 483595.861, -1.0, 528132.425, -1.0, -1.0, 506113.653, -1.0, -1.0, 526529.23, -1.0, 516146.95, 505298.355, 507232.202, -1.0, 463189.033, -1.0, 549103.741, -1.0, -1.0, -1.0, 1003037.19, 543578.569, 556542.67, 729147.701, -1.0, 482388.418, 465321.051, -1.0, 523865.449, 920775.928, 809370.931, -1.0, 479936.676, 635844.933, -1.0, -1.0, -1.0, -1.0, -1.0, 542273.83, -1.0, -1.0, 866208.179, -1.0, 595653.431, 509977.049, -1.0, -1.0, -1.0, 471774.937, -1.0, -1.0, 480882.064, -1.0, -1.0, 565060.624, 644920.329, -1.0, 772825.759, -1.0, 523566.328, -1.0, -1.0, -1.0, -1.0, 472585.561, -1.0, -1.0, 533632.937, 501868.045, 484437.697, 701268.455, 2018949.601, 627852.256, -1.0, -1.0, -1.0, -1.0, -1.0, -1.0, -1.0, 506790.356, 504465.467, 468894.117, -1.0, -1.0, -1.0, -1.0, -1.0, 611922.365, -1.0, -1.0, -1.0, -1.0, -1.0, -1.0, -1.0, -1.0, 810271.575, -1.0, 475446.556, -1.0, -1.0, -1.0, -1.0, -1.0, -1.0, 520948.78, -1.0, 490982.784, -1.0, 468990.341, -1.0, 534872.315, -1.0, -1.0, -1.0, -1.0, -1.0, -1.0, -1.0, -1.0, 825419.102, -1.0, -1.0, 541839.875, -1.0, 764024.265, 477638.088, -1.0, -1.0, 1348870.877, -1.0, -1.0, 587671.809, -1.0, -1.0, 724559.92, -1.0, 780354.096, 519178.048, 1314369.955, -1.0, -1.0, 516592.999, 818312.601, 638422.68, -1.0, -1.0, 532013.906, 798595.101, -1.0, 687917.038, 805317.15, 569170.673, -1.0, -1.0, -1.0, -1.0, -1.0, -1.0, 470790.09, -1.0, -1.0, -1.0, 672953.51, -1.0, -1.0, -1.0, -1.0, -1.0, 790544.317, 650513.145, -1.0, 558330.559, 530537.074, -1.0, -1.0, -1.0, 508498.328, -1.0, 495825.356, -1.0, -1.0, 635286.514, 542663.64, 640147.607, -1.0, -1.0, -1.0, -1.0, -1.0, 589598.427, -1.0, -1.0, -1.0, -1.0, -1.0, -1.0, -1.0, -1.0, -1.0, 522011.41, -1.0, 470706.447, 533710.552, -1.0, -1.0, 515729.971, 513215.758, -1.0, -1.0, 522847.554, -1.0, -1.0, 466432.659, -1.0, -1.0, -1.0, 891357.054, -1.0, -1.0, -1.0, -1.0, -1.0, -1.0, -1.0, -1.0, -1.0, 595987.469, -1.0, -1.0, -1.0, -1.0, 506417.5, -1.0, -1.0, -1.0, -1.0, 1213352.766, -1.0, 567405.673, 799981.769, -1.0, 707430.848, 797590.134, 918775.035, -1.0, -1.0, -1.0, 465596.42, 623699.783, 477800.329, 765957.269, 618529.773, -1.0, 1304677.108, -1.0, 608997.025, 660899.246, 955744.702, 566388.122, -1.0, 470493.431, 464931.639, 511808.642, -1.0, -1.0, -1.0, 539147.931, -1.0, 578734.051, -1.0, 576427.705, -1.0, 506530.125, -1.0, -1.0, -1.0, -1.0, -1.0, -1.0, 1017398.425, 574782.948, -1.0, 631264.741, 502893.737, -1.0, 714713.464, 556651.973, 783029.517, -1.0, -1.0, -1.0, 524954.428, -1.0, 1041717.195, 603095.416, -1.0, 559844.847, -1.0, -1.0, -1.0, -1.0, 673180.136, -1.0, -1.0, 737351.579, -1.0, -1.0, -1.0, 542595.427, 521264.898, 796323.79, 529471.25, -1.0, -1.0, -1.0, 883997.224, -1.0, 667955.536, 559510.672, 621891.333, 466658.624, 884767.836, -1.0, -1.0, -1.0, 526010.175, -1.0, 514955.92, 679641.093, -1.0, -1.0, -1.0, 488150.134, 508038.972, -1.0, -1.0, -1.0, -1.0, 601949.069, 525756.412, -1.0, -1.0, 493712.136, -1.0, 1044468.395, -1.0, 859626.538, -1.0, -1.0, 578831.562, 537298.393, -1.0, 644489.191, -1.0, 530668.241, -1.0, -1.0, 570735.009, 759078.322, -1.0, 492628.673, -1.0, -1.0, -1.0, -1.0, -1.0, 664357.339, -1.0, -1.0, -1.0, 701074.41, 511619.148, -1.0, 463613.05, -1.0, 747570.014, -1.0, -1.0, -1.0, 463733.096, -1.0, -1.0, -1.0, -1.0, 535436.823, -1.0, 534656.671, -1.0, 519032.784, 687951.976, -1.0, -1.0, -1.0, 468494.884, -1.0, -1.0, -1.0, 600199.651, 643325.251, -1.0, 586534.186, -1.0, -1.0, -1.0, -1.0, -1.0, -1.0, 544477.472, -1.0, -1.0, 1358105.363, -1.0, -1.0, -1.0, -1.0, -1.0, -1.0, 791629.784, -1.0, -1.0, -1.0, -1.0, 490845.457, -1.0, 795699.488, -1.0, 483392.924, -1.0, -1.0, 503155.494, -1.0, -1.0, -1.0, -1.0, -1.0, 669616.113, 1132768.687, -1.0, -1.0, -1.0, -1.0, 555451.544, -1.0, 485808.525, -1.0, 585666.438, 545037.528, -1.0, -1.0, -1.0, 542455.799, -1.0, 533223.719, 479981.377, 469505.498, -1.0, 599218.663, 776127.428, 948357.408, -1.0, -1.0, -1.0, 745892.466, -1.0, 17043.777, -1.0, -1.0, -1.0, -1.0, 502002.954, 588006.346, -1.0, -1.0, 495267.46, -1.0, -1.0, 466328.236, -1.0, -1.0, -1.0, -1.0, -1.0, 481404.952, -1.0, -1.0, -1.0, -1.0, 472199.751, -1.0, -1.0, 484576.588, -1.0, -1.0, -1.0, -1.0, 604300.81, -1.0, -1.0, 672262.386, -1.0, 610623.684, -1.0, 587403.354, -1.0, 750645.696, 692168.47, -1.0, -1.0, -1.0, -1.0, -1.0, -1.0, -1.0, 989638.753, 482173.981, -1.0, 544689.464, -1.0, -1.0, -1.0, -1.0, -1.0, 515839.482, 642431.314, -1.0, -1.0, 622831.072, 570971.115, -1.0, 484063.591, -1.0, -1.0, -1.0, -1.0, -1.0, 518290.561, -1.0, -1.0, 481590.767, 565191.12, 506947.264, 538622.608, 541082.607, -1.0, -1.0, -1.0, -1.0, -1.0, -1.0, -1.0, -1.0, -1.0, -1.0, 578558.728, -1.0, -1.0, 675506.997, -1.0, -1.0, -1.0, 477202.224, -1.0, -1.0, 560593.087, -1.0, 531312.567, 493507.343, -1.0, -1.0, -1.0, -1.0, 523045.337, -1.0, -1.0, -1.0, -1.0, 541247.362, 467274.814, 902063.767, -1.0, 727219.331, -1.0, -1.0, -1.0, -1.0, -1.0, 622275.289, -1.0, -1.0, 616460.418, -1.0, -1.0, -1.0, -1.0, -1.0, -1.0, -1.0, 912200.506, -1.0, -1.0, -1.0, -1.0, -1.0, 633819.453, -1.0, -1.0, 465869.02, -1.0, 554887.779, -1.0, -1.0, -1.0, -1.0, 495944.545, -1.0, 836870.965, 587247.434, -1.0, 503139.532, -1.0, -1.0, 598139.858, -1.0, -1.0, 516805.867, 543914.412, -1.0, -1.0, -1.0, 499677.953, -1.0, -1.0, -1.0, 463559.24, -1.0, -1.0, -1.0, 891546.109, -1.0, 603456.481, 763782.856, -1.0, -1.0, -1.0, -1.0, -1.0, -1.0, 482909.451, -1.0, -1.0, 582795.722, 480110.365, 505901.212, 591055.724, -1.0, 629979.39, -1.0, -1.0, 572291.083, 467691.294, -1.0, -1.0, -1.0, 546952.441, 1526331.482, 629777.629, 759395.627, 626152.949, -1.0, -1.0, -1.0, 805422.723, -1.0, -1.0, 507263.94, -1.0, -1.0, -1.0, -1.0, -1.0, -1.0, -1.0, 707118.953, 518092.067, -1.0, -1.0, 712597.644, 612511.121, -1.0, -1.0, -1.0, -1.0, 485537.0, -1.0, 502953.509, -1.0, 472876.514, 507452.32, -1.0, -1.0, 523510.046, -1.0, 503869.338, 467867.907, -1.0, 471494.696, 966395.05, 500261.9, -1.0, -1.0, 498366.442, 563704.231, 834745.797, -1.0, 472222.163, -1.0, 529465.326, -1.0, -1.0, -1.0, 509216.792, -1.0, 782013.375, -1.0, 564550.952, 522424.8, 648765.292, 849586.867, -1.0, -1.0, -1.0, 598818.801, -1.0, -1.0, -1.0, 555791.149, -1.0, 484255.338, -1.0, 617527.535, -1.0, 482222.923, -1.0, -1.0, -1.0, -1.0, 549498.538, 620634.003, 484935.558, -1.0, 468005.279, -1.0, 467794.665, -1.0, -1.0, -1.0, -1.0, -1.0, -1.0, -1.0, -1.0, -1.0, 467479.139, 498237.646, 543836.737, 589220.927, 484597.046, 515703.38, 916141.282, -1.0, -1.0, -1.0, -1.0, -1.0, -1.0, 472543.841, 692096.427, 1524136.212, 573731.259, -1.0, 799830.145, -1.0, -1.0, -1.0, -1.0, 3410383.324, -1.0, -1.0, 474383.041, -1.0, -1.0, 463129.891, -1.0, 492394.109, -1.0, -1.0, -1.0, 896666.738, -1.0, -1.0, -1.0, 521933.204, -1.0, -1.0, -1.0, 484418.507, 478202.434, -1.0, -1.0, -1.0, 479809.166, -1.0, 508903.927, 653731.432, -1.0, -1.0, 574789.39, 496711.335, 512208.161, -1.0, 624790.795, -1.0, -1.0, -1.0, 483786.258, -1.0, 538358.848, -1.0, 474838.556, -1.0, -1.0, -1.0, -1.0, 600222.327, -1.0, 515560.041, -1.0, -1.0, -1.0, -1.0, -1.0, -1.0, -1.0, 571276.946, -1.0, 523850.382, -1.0, -1.0, -1.0, -1.0, 615068.994, -1.0, -1.0, -1.0, -1.0, 635522.865, -1.0, 506916.666, 517416.595, -1.0, -1.0, -1.0, -1.0, 528286.723, 494657.898, 1575037.801, 613813.386, -1.0, 481511.78, -1.0, -1.0, -1.0, 581104.712, 563423.455, 832207.537, -1.0, 470611.001, -1.0, 467157.221, -1.0, 1001002.707, 523232.509, 611682.222, -1.0, 491197.064, -1.0, -1.0, -1.0, 1015372.148, -1.0, -1.0, -1.0, -1.0, 505754.762, -1.0, -1.0, 1308892.711, -1.0, -1.0, -1.0, 853713.143, 709195.012, -1.0, -1.0, -1.0, -1.0, -1.0, -1.0, 603891.598, -1.0, -1.0, -1.0, -1.0, 997077.852, 497093.157, -1.0, -1.0, -1.0, 520304.947, 765917.66, 561093.806, -1.0, 640959.664, 576400.046, 632708.745, 500090.837, 628118.837, -1.0, -1.0, -1.0, 607764.044, 513028.415, 491262.265, -1.0, 573191.169, -1.0, 674493.08, -1.0, -1.0, -1.0, -1.0, 526072.005, 584523.554, -1.0, -1.0, -1.0, 1013413.98, -1.0, -1.0, -1.0, 801917.335, -1.0, -1.0, 496654.032, 970001.275, -1.0, -1.0, -1.0, -1.0, -1.0, -1.0, -1.0, 574937.879, 604161.803, -1.0, -1.0, -1.0, -1.0, 788636.015, -1.0, -1.0, 573505.776, 487697.42, -1.0, 639861.777, -1.0, 483395.033, 1076963.083, -1.0, -1.0, -1.0, -1.0, 535647.731, -1.0, 17717.404, -1.0, -1.0, 534569.579, 1703101.694, -1.0, -1.0, -1.0, 1385604.255, -1.0, -1.0, -1.0, 1685765.375, -1.0, -1.0, 581851.353, 561997.885, -1.0, 592893.326, -1.0, -1.0, 528617.994, 490330.249, -1.0, -1.0, -1.0, -1.0, 658877.203, -1.0, 493223.284, 532565.724, 542916.051, -1.0, 481157.799, 604699.673, 530468.684, -1.0, -1.0, -1.0, 495414.537, -1.0, 698261.15, -1.0, -1.0, 557278.22, -1.0, 565450.974, 794600.39, -1.0, -1.0, -1.0, 463710.014, -1.0, 506268.3, 623765.291, 1536972.586, -1.0, 537305.971, -1.0, 497391.897, -1.0, -1.0, -1.0, -1.0, 661439.193, 628524.627, 1084172.435, -1.0, -1.0, 501527.66, 490648.267, -1.0, -1.0, -1.0, 863503.939, 550260.574, 623025.107, -1.0, -1.0, 500531.783, 501882.943, 533806.827, -1.0, 907066.409, -1.0, -1.0, -1.0, 870067.535, -1.0, 650647.397, -1.0, -1.0, -1.0, 898317.366, 517320.884, -1.0, -1.0, -1.0, -1.0, -1.0, 505105.49, -1.0, -1.0, -1.0, -1.0, 679332.069, 463897.714, -1.0, -1.0, 495319.236, 838839.575, -1.0, -1.0, 541497.086, -1.0, -1.0, 476975.017, 522948.451, -1.0, -1.0, -1.0, -1.0, -1.0, -1.0, 485619.848, -1.0, 1551004.232, -1.0, 664330.294, -1.0, -1.0, -1.0, -1.0, 726086.639, 829289.461, -1.0, 545594.239, -1.0, 650194.559, -1.0, -1.0, 743079.215, -1.0, -1.0, -1.0, -1.0, 1037610.861, 588384.446, -1.0, -1.0, -1.0, -1.0, -1.0, 701802.192, 596847.39, -1.0, -1.0, -1.0, -1.0, 518686.929, -1.0, -1.0, -1.0, -1.0, -1.0, -1.0, 546704.761, 561014.1, -1.0, 573458.089, -1.0, -1.0, -1.0, 983073.01, -1.0, 497130.357, -1.0, 483363.949, 479626.111, -1.0, -1.0, 515938.209, -1.0, -1.0, -1.0, -1.0, -1.0, 918824.752, -1.0, -1.0, -1.0, 601347.51, -1.0, 512875.931, -1.0, 775373.366, -1.0, -1.0, 682957.163, -1.0, -1.0, 484731.812, -1.0, -1.0, -1.0, 520971.83, -1.0, -1.0, -1.0, -1.0, -1.0, -1.0, -1.0, 824562.954, -1.0, -1.0, -1.0, 543223.595, -1.0, -1.0, 473867.107, 666963.423, -1.0, 644264.071, 477261.946, 622923.925, -1.0, -1.0, -1.0, -1.0, -1.0, -1.0, 878130.536, -1.0, 491524.034, 588759.153, 1022615.161, -1.0, 583217.201, -1.0, 629633.172, -1.0, -1.0, -1.0, 1510744.837, -1.0, 906818.906, -1.0, -1.0, -1.0, -1.0, -1.0, -1.0, 790299.829, 466075.599, 672076.559, 481506.162, 1361581.162, -1.0, -1.0, 507812.156, -1.0, -1.0, -1.0, -1.0, -1.0, -1.0, -1.0, -1.0, -1.0, -1.0, 621542.061, 470545.846, -1.0, -1.0, -1.0, 498809.58, -1.0, -1.0, -1.0, -1.0, -1.0, -1.0, 531899.596, 683407.65, 1461333.391, -1.0, 707771.933, 529916.447, 917172.297, -1.0, -1.0, 477295.893, 490418.865, -1.0, 1167607.979, 489827.082, 504384.138, 493036.302, -1.0, 593428.466, -1.0, 570386.756, -1.0, -1.0, 656921.217, -1.0, -1.0, -1.0, 755680.394, -1.0, 506422.724, -1.0, -1.0, 758645.467, 740241.809, 813435.209, 717141.808, -1.0, -1.0, -1.0, 874665.268, 570430.713, -1.0, 536790.005, -1.0, -1.0, -1.0, 474368.701, -1.0, -1.0, -1.0, 466656.246, -1.0, 582470.087, 490388.463, -1.0, -1.0, -1.0, -1.0, 793472.052, -1.0, 475039.538, -1.0, -1.0, 566713.292, -1.0, -1.0, 1007833.94, -1.0, -1.0, -1.0, 677455.003, 759463.011, -1.0, -1.0, 695011.431, -1.0, 468793.892, 501211.929, 484652.857, -1.0, 672239.297, 473232.869, -1.0, 965107.447, -1.0, -1.0, -1.0, -1.0, -1.0, 566220.717, -1.0, 525218.957, 687076.709, 656370.769, -1.0, -1.0, -1.0, -1.0, 476667.128, -1.0, -1.0, -1.0, 949079.141, 989248.65, -1.0, -1.0, -1.0, -1.0, -1.0, -1.0, -1.0, -1.0, -1.0, -1.0, 478764.675, -1.0, -1.0, 587271.129, -1.0, 1186685.454, 537389.181, -1.0, 773591.856, -1.0, -1.0, -1.0, -1.0, -1.0, -1.0, -1.0, -1.0, -1.0, 536471.25, -1.0, -1.0, 556850.475, -1.0, 491940.583, -1.0, -1.0, -1.0, -1.0, -1.0, 755705.038, -1.0, -1.0, -1.0, -1.0, -1.0, -1.0, -1.0, -1.0, -1.0, 653156.599, -1.0, 2459588.224, -1.0, 960441.726, -1.0, -1.0, 511265.72, -1.0, -1.0, 1105543.436, -1.0, -1.0, -1.0, -1.0, 900677.655, 696251.125, -1.0, -1.0, 538591.984, -1.0, -1.0, 663180.256, 979338.945, 524934.693, -1.0, -1.0, -1.0, -1.0, -1.0, -1.0, 510201.734, 697295.028, -1.0, 821246.153, -1.0, -1.0, -1.0, -1.0, -1.0, 519024.546, -1.0, 605888.711, 1266588.138, -1.0, -1.0, 811311.733, -1.0, -1.0, -1.0, -1.0, -1.0, -1.0, -1.0, -1.0, 487712.481, 681710.116, 831414.825, -1.0, -1.0, 765266.687, -1.0, -1.0, 523694.13, -1.0, -1.0, -1.0, -1.0, -1.0, -1.0, -1.0, -1.0, -1.0, 536476.243, 936089.442, -1.0, -1.0, 480841.386, 464997.944, 493998.307, -1.0, 484348.633, 472233.592, -1.0, 497646.609, -1.0, -1.0, 466447.641, -1.0, -1.0, -1.0, -1.0, -1.0, -1.0, -1.0, 1431293.168, -1.0, -1.0, -1.0, -1.0, 704458.033, -1.0, -1.0, -1.0, -1.0, -1.0, -1.0, 479885.063, 470263.682, -1.0, -1.0, 542549.34, -1.0, -1.0, -1.0, 669452.138, 1053360.696, 1430816.903, 1039655.923, -1.0, -1.0, -1.0, -1.0, -1.0, 620583.908, 557802.282, -1.0, -1.0, 548382.032, -1.0, 1458194.191, -1.0, -1.0, -1.0, -1.0, -1.0, -1.0, -1.0, -1.0, -1.0, -1.0, 618092.634, -1.0, 558309.384, 762077.675, -1.0, -1.0, -1.0, -1.0, 465764.258, -1.0, -1.0, -1.0, 617908.084, -1.0, -1.0, -1.0, 533408.31, 504050.925, -1.0, -1.0, -1.0, 533374.328, 644808.975, 894904.485, -1.0, -1.0, 569330.568, -1.0, 526172.691, -1.0, -1.0, 491600.667, -1.0, 473162.748, -1.0, -1.0, -1.0, 478088.575, -1.0, 552436.813, -1.0, -1.0, -1.0, 580235.871, -1.0, -1.0, -1.0, 826530.536, -1.0, -1.0, -1.0, -1.0, 516062.433, 506143.204, -1.0, 515584.671, -1.0, 613705.227, -1.0, -1.0, -1.0, -1.0, -1.0, -1.0, -1.0, 559593.398, -1.0, -1.0, -1.0, 540801.971, -1.0, -1.0, -1.0, 577835.836, -1.0, -1.0, -1.0, -1.0, -1.0, -1.0, -1.0, -1.0, -1.0, -1.0, -1.0, 494711.843, -1.0, -1.0, -1.0, 642948.853, -1.0, -1.0, 475179.097, -1.0, -1.0, -1.0, -1.0, 591591.618, 465540.144, -1.0, -1.0, -1.0, 504565.055, -1.0, -1.0, -1.0, 672599.836, 647187.673, -1.0, -1.0, -1.0, -1.0, -1.0, 640132.426, -1.0, -1.0, -1.0, -1.0, -1.0, 474106.952, -1.0, 565778.371, -1.0, 581697.395, 473667.432, -1.0, -1.0, -1.0, 605962.252, -1.0, -1.0, 848162.633, 700315.69, 519109.903, -1.0, -1.0, -1.0, 1225943.713, -1.0, -1.0, 670283.826, -1.0, -1.0, -1.0, -1.0, 540062.704, -1.0, 541545.07, 474575.647, -1.0, 526619.97, -1.0, -1.0, 633370.7, -1.0, 487117.953, -1.0, -1.0, -1.0, 551096.223, -1.0, 490488.817, -1.0, 503357.813, -1.0, -1.0, -1.0, 606243.179, 506778.271, -1.0, -1.0, 1024108.765, -1.0, 628566.717, -1.0, -1.0, -1.0, 531104.733, -1.0, 510963.595, -1.0, -1.0, -1.0, 1209880.801, -1.0, -1.0, -1.0, 547787.178, 477576.678, -1.0, -1.0, -1.0, 632453.204, -1.0, 680613.812, -1.0, -1.0, 488879.831, 494192.228, -1.0, 499588.301, -1.0, 1126241.442, -1.0, 512805.661, -1.0, -1.0, -1.0, 1157196.035, 467393.358, 770556.529, -1.0, 576827.889, -1.0, -1.0, -1.0, 500675.011, -1.0, 674770.704, 1051185.714, 481229.063, -1.0, 1046608.809, -1.0, -1.0, 504894.598, 891055.652, -1.0, 705401.422, -1.0, -1.0, 1266949.134, -1.0, 622637.921, -1.0, -1.0, -1.0, 587868.114, -1.0, -1.0, 466370.378, -1.0, 501187.017, -1.0, -1.0, -1.0, 587637.269, -1.0, -1.0, 537006.594, 679768.06, -1.0, 487059.08, 605756.204, -1.0, -1.0, 755985.94, 1219546.532, 502714.48, -1.0, -1.0, 536668.984, 842467.447, 480460.799, -1.0, 542936.634, -1.0, 481136.442, 596441.627, -1.0, -1.0, 497653.695, 567793.481, -1.0, 560113.292, 506292.931, -1.0, 529627.73, 516022.793, -1.0, -1.0, -1.0, -1.0, 664424.087, -1.0, -1.0, -1.0, 518777.382, 479320.95, 1099071.079, -1.0, -1.0, -1.0, -1.0, 465077.167, -1.0, -1.0, 912396.22, -1.0, -1.0, 491358.251, -1.0, -1.0, 541742.487, -1.0, -1.0, 514627.041, 485546.261, -1.0, -1.0, -1.0, -1.0, -1.0, 564139.992, -1.0, 897425.077, -1.0, -1.0, 556706.135, 546604.545, -1.0, 526913.035, -1.0, -1.0, -1.0, -1.0, -1.0, -1.0, 529443.453, -1.0, -1.0, 512541.981, -1.0, 690206.8, 477089.12, -1.0, 527252.915, -1.0, -1.0, -1.0, 618998.812, 1389145.949, -1.0, -1.0, 821341.112, -1.0, -1.0, -1.0, -1.0, -1.0, -1.0, -1.0, -1.0, -1.0, -1.0, -1.0, 532223.4, -1.0, -1.0, -1.0, -1.0, -1.0, -1.0, -1.0, 568838.619, -1.0, 608486.77, 890448.97, -1.0, -1.0, 604958.985, 560339.952, -1.0, 501271.878, 494716.005, -1.0, -1.0, -1.0, -1.0, 687865.473, -1.0, -1.0, -1.0, -1.0, 767553.693, 961618.856, 618723.551, -1.0, -1.0, 565024.619, 742996.625, -1.0, -1.0, -1.0, 637748.477, -1.0, 557830.871, -1.0, -1.0, 554019.426, 504277.516, -1.0, 484500.891, 640577.488, 473836.78, -1.0, 612335.037, 656329.387, 505988.566, -1.0, -1.0, -1.0, -1.0, -1.0, -1.0, -1.0, -1.0, -1.0, -1.0, -1.0, -1.0, -1.0, -1.0, 781596.341, -1.0, -1.0, -1.0, -1.0, -1.0, -1.0, -1.0, 720964.765, -1.0, 563029.441, -1.0, 586250.962, 566940.62, -1.0, -1.0, 563368.559, -1.0, 569431.992, -1.0, -1.0, 552483.143, -1.0, -1.0, 998934.102, 550400.689, 893991.874, 837580.069, -1.0, -1.0, -1.0, -1.0, -1.0, -1.0, -1.0, 483517.721, 732365.656, -1.0, -1.0, -1.0, 471999.886, 901246.748, -1.0, -1.0, -1.0, -1.0, -1.0, 479804.203, 492588.336, -1.0, -1.0, 489685.9, 707665.726, -1.0, 984390.682, -1.0, 808898.857, 591881.499, -1.0, -1.0, -1.0, 486063.695, -1.0, -1.0, -1.0, -1.0, 510701.721, -1.0, 633351.573, 1265926.471, -1.0, 466685.817, -1.0, 646611.029, -1.0, -1.0, -1.0, 579855.719, -1.0, -1.0, -1.0, 525397.565, -1.0, -1.0, -1.0, -1.0, -1.0, -1.0, 1115299.523, 1223509.832, -1.0, 949825.446, 553297.755, 569004.291, -1.0, -1.0, -1.0, 668979.675, -1.0, 471353.148, 504079.87, -1.0, 639025.485, -1.0, 478638.919, 557646.061, 1217344.071, -1.0, -1.0, -1.0, 518121.801, 884965.836, 605991.35, -1.0, -1.0, 467271.28, -1.0, -1.0, 839082.499, 989921.085, -1.0, -1.0, 1271010.863, -1.0, -1.0, -1.0, -1.0, 546269.305, -1.0, 583591.35, -1.0, -1.0, -1.0, 532102.592, 539743.822, -1.0, 473249.839, -1.0, 484704.585, 474970.672, -1.0, 1225056.799, -1.0, 694920.781, 894704.697, -1.0, 463792.498, -1.0, 981531.994, 682106.044, 469423.749, 810008.935, -1.0, -1.0, -1.0, -1.0, 649050.055, 516029.044, 1726383.924, -1.0, -1.0, -1.0, -1.0, 568601.689, 1379463.032, -1.0, 957350.327, -1.0, -1.0, 624172.944, 499035.196, -1.0, 467964.849, -1.0, 484139.718, -1.0, -1.0, 822974.01, -1.0, -1.0, -1.0, -1.0, -1.0, -1.0, 993464.126, -1.0, -1.0, -1.0, -1.0, -1.0, 492884.086, 480266.766, 756748.602, -1.0, 483423.581, -1.0, 891107.671, 577035.248, 561507.82, -1.0, -1.0, -1.0, 1105470.633, -1.0, -1.0, -1.0, 498582.954, -1.0, -1.0, -1.0, -1.0, -1.0, -1.0, -1.0, 933049.766, -1.0, -1.0, 738572.744, -1.0, -1.0, -1.0, 557381.406, -1.0, 523119.509, 478406.831, 467619.921, 696993.486, -1.0, -1.0, -1.0, 603557.016, -1.0, -1.0, 542169.778, 669644.298, 1933549.008, -1.0, 511610.428, -1.0, -1.0, -1.0, -1.0, 468967.247, -1.0, 746197.912, 1061249.202, 536184.754, -1.0, 595509.343, 603582.13, -1.0, -1.0, -1.0, -1.0, -1.0, -1.0, 905460.248, 520400.766, -1.0, -1.0, 596174.985, -1.0, -1.0, -1.0, 467201.189, 490933.606, -1.0, 475727.686, -1.0, 1215119.431, 613997.651, -1.0, 487841.68, 644261.702, -1.0, 892661.762, 521009.54, -1.0, -1.0, -1.0, -1.0, -1.0, 570902.982, -1.0, -1.0, 571498.332, 477725.582, -1.0, 555030.715, 542076.12, 534270.899, -1.0, 481623.803, 595647.116, -1.0, -1.0, -1.0, -1.0, 503855.027, 707624.123, 618757.833, 476889.5, -1.0, 960719.012, 711140.791, 565927.016, 536116.08, -1.0, -1.0, 514872.072, -1.0, -1.0, 854661.27, -1.0, -1.0, 612598.041, -1.0, -1.0, -1.0, 497146.764, -1.0, -1.0, -1.0, 482302.639, -1.0, -1.0, 615324.844, 754383.585, -1.0, -1.0, 715184.812, -1.0, -1.0, 1038830.739, -1.0, -1.0, -1.0, -1.0, -1.0, -1.0, -1.0, 525445.083, -1.0, -1.0, -1.0, 587961.433, 563538.329, 505654.809, -1.0, -1.0, -1.0, 506837.135, -1.0, -1.0, 645277.018, 475871.064, 536228.575, -1.0, 729477.189, -1.0, -1.0, 956096.278, 469009.2, -1.0, -1.0, 741918.802, -1.0, 510894.935, -1.0, -1.0, 567328.752, -1.0, -1.0, -1.0, -1.0, -1.0, 574518.709, -1.0, 480174.062, -1.0, -1.0, 802142.837, -1.0, 656185.735, -1.0, -1.0, -1.0, -1.0, -1.0, 608961.563, -1.0, -1.0, 878313.429, -1.0, -1.0, -1.0, -1.0, 551989.625, 583052.831, -1.0, -1.0, -1.0, -1.0, -1.0, 627981.163, 489983.619, -1.0, 715480.484, -1.0, -1.0, 594871.708, -1.0, -1.0, -1.0, 491567.621, -1.0, -1.0, 464012.066, -1.0, -1.0, -1.0, 613011.302, -1.0, 638725.826, -1.0, 511401.638, 501450.822, -1.0, -1.0, -1.0, 633293.322, -1.0, -1.0, 479852.004, -1.0, -1.0, -1.0, -1.0, -1.0, 592835.852, 798070.139, -1.0, -1.0, 582548.645, 624853.587, 1054543.806, 609604.238, -1.0, -1.0, 578472.477, -1.0, 567659.372, -1.0, 581799.061]\n"
     ]
    }
   ],
   "source": [
    "Q1=data['duration_ms'].quantile(.25)\n",
    "Q2=data['duration_ms'].quantile(.50)\n",
    "Q3=data['duration_ms'].quantile(.75)\n",
    "print('Q1=',Q1)\n",
    "print('Q2=',Q2)\n",
    "print('Q3=',Q3)\n",
    "\n",
    "IQR = Q3-Q1\n",
    "print('IQR=',IQR)\n",
    "\n",
    "up_lmt=Q3+1.5*IQR\n",
    "low_lmt=Q1-1.5*IQR\n",
    "print('up_lmt=',up_lmt)\n",
    "print('low_lmt=',low_lmt)\n",
    "\n",
    "outlier=[]\n",
    "for x in data['duration_ms']:\n",
    "    if (x<low_lmt) or (x>up_lmt):\n",
    "        outlier.append(x)\n",
    "print('outliers = ',outlier)"
   ]
  },
  {
   "cell_type": "code",
   "execution_count": 16,
   "id": "19c3b5eb",
   "metadata": {},
   "outputs": [],
   "source": [
    "df=data[(data['duration_ms']>low_lmt) & (data['duration_ms']< up_lmt)]"
   ]
  },
  {
   "cell_type": "code",
   "execution_count": 17,
   "id": "d4257d9f",
   "metadata": {},
   "outputs": [
    {
     "data": {
      "text/plain": [
       "(13141, 18)"
      ]
     },
     "execution_count": 17,
     "metadata": {},
     "output_type": "execute_result"
    }
   ],
   "source": [
    "df.shape"
   ]
  },
  {
   "cell_type": "markdown",
   "id": "495f9cce",
   "metadata": {},
   "source": [
    "# Encoding"
   ]
  },
  {
   "cell_type": "code",
   "execution_count": 18,
   "id": "614aedb6",
   "metadata": {},
   "outputs": [
    {
     "name": "stderr",
     "output_type": "stream",
     "text": [
      "C:\\Users\\SREELAKSHMI\\AppData\\Local\\Temp\\ipykernel_11240\\1849310723.py:5: SettingWithCopyWarning: \n",
      "A value is trying to be set on a copy of a slice from a DataFrame.\n",
      "Try using .loc[row_indexer,col_indexer] = value instead\n",
      "\n",
      "See the caveats in the documentation: https://pandas.pydata.org/pandas-docs/stable/user_guide/indexing.html#returning-a-view-versus-a-copy\n",
      "  df[obj] = le.fit_transform(df[obj].astype(str))\n",
      "C:\\Users\\SREELAKSHMI\\AppData\\Local\\Temp\\ipykernel_11240\\1849310723.py:5: SettingWithCopyWarning: \n",
      "A value is trying to be set on a copy of a slice from a DataFrame.\n",
      "Try using .loc[row_indexer,col_indexer] = value instead\n",
      "\n",
      "See the caveats in the documentation: https://pandas.pydata.org/pandas-docs/stable/user_guide/indexing.html#returning-a-view-versus-a-copy\n",
      "  df[obj] = le.fit_transform(df[obj].astype(str))\n",
      "C:\\Users\\SREELAKSHMI\\AppData\\Local\\Temp\\ipykernel_11240\\1849310723.py:5: SettingWithCopyWarning: \n",
      "A value is trying to be set on a copy of a slice from a DataFrame.\n",
      "Try using .loc[row_indexer,col_indexer] = value instead\n",
      "\n",
      "See the caveats in the documentation: https://pandas.pydata.org/pandas-docs/stable/user_guide/indexing.html#returning-a-view-versus-a-copy\n",
      "  df[obj] = le.fit_transform(df[obj].astype(str))\n",
      "C:\\Users\\SREELAKSHMI\\AppData\\Local\\Temp\\ipykernel_11240\\1849310723.py:5: SettingWithCopyWarning: \n",
      "A value is trying to be set on a copy of a slice from a DataFrame.\n",
      "Try using .loc[row_indexer,col_indexer] = value instead\n",
      "\n",
      "See the caveats in the documentation: https://pandas.pydata.org/pandas-docs/stable/user_guide/indexing.html#returning-a-view-versus-a-copy\n",
      "  df[obj] = le.fit_transform(df[obj].astype(str))\n",
      "C:\\Users\\SREELAKSHMI\\AppData\\Local\\Temp\\ipykernel_11240\\1849310723.py:5: SettingWithCopyWarning: \n",
      "A value is trying to be set on a copy of a slice from a DataFrame.\n",
      "Try using .loc[row_indexer,col_indexer] = value instead\n",
      "\n",
      "See the caveats in the documentation: https://pandas.pydata.org/pandas-docs/stable/user_guide/indexing.html#returning-a-view-versus-a-copy\n",
      "  df[obj] = le.fit_transform(df[obj].astype(str))\n",
      "C:\\Users\\SREELAKSHMI\\AppData\\Local\\Temp\\ipykernel_11240\\1849310723.py:5: SettingWithCopyWarning: \n",
      "A value is trying to be set on a copy of a slice from a DataFrame.\n",
      "Try using .loc[row_indexer,col_indexer] = value instead\n",
      "\n",
      "See the caveats in the documentation: https://pandas.pydata.org/pandas-docs/stable/user_guide/indexing.html#returning-a-view-versus-a-copy\n",
      "  df[obj] = le.fit_transform(df[obj].astype(str))\n",
      "C:\\Users\\SREELAKSHMI\\AppData\\Local\\Temp\\ipykernel_11240\\1849310723.py:5: SettingWithCopyWarning: \n",
      "A value is trying to be set on a copy of a slice from a DataFrame.\n",
      "Try using .loc[row_indexer,col_indexer] = value instead\n",
      "\n",
      "See the caveats in the documentation: https://pandas.pydata.org/pandas-docs/stable/user_guide/indexing.html#returning-a-view-versus-a-copy\n",
      "  df[obj] = le.fit_transform(df[obj].astype(str))\n",
      "C:\\Users\\SREELAKSHMI\\AppData\\Local\\Temp\\ipykernel_11240\\1849310723.py:5: SettingWithCopyWarning: \n",
      "A value is trying to be set on a copy of a slice from a DataFrame.\n",
      "Try using .loc[row_indexer,col_indexer] = value instead\n",
      "\n",
      "See the caveats in the documentation: https://pandas.pydata.org/pandas-docs/stable/user_guide/indexing.html#returning-a-view-versus-a-copy\n",
      "  df[obj] = le.fit_transform(df[obj].astype(str))\n"
     ]
    }
   ],
   "source": [
    "from sklearn.preprocessing import LabelEncoder\n",
    "le = LabelEncoder()\n",
    "obj_list = data.select_dtypes(include=\"object\").columns\n",
    "for obj in obj_list:\n",
    "    df[obj] = le.fit_transform(df[obj].astype(str))"
   ]
  },
  {
   "cell_type": "code",
   "execution_count": 19,
   "id": "2deef964",
   "metadata": {},
   "outputs": [
    {
     "data": {
      "text/html": [
       "<div>\n",
       "<style scoped>\n",
       "    .dataframe tbody tr th:only-of-type {\n",
       "        vertical-align: middle;\n",
       "    }\n",
       "\n",
       "    .dataframe tbody tr th {\n",
       "        vertical-align: top;\n",
       "    }\n",
       "\n",
       "    .dataframe thead th {\n",
       "        text-align: right;\n",
       "    }\n",
       "</style>\n",
       "<table border=\"1\" class=\"dataframe\">\n",
       "  <thead>\n",
       "    <tr style=\"text-align: right;\">\n",
       "      <th></th>\n",
       "      <th>instance_id</th>\n",
       "      <th>track_name</th>\n",
       "      <th>popularity</th>\n",
       "      <th>acousticness</th>\n",
       "      <th>danceability</th>\n",
       "      <th>duration_ms</th>\n",
       "      <th>energy</th>\n",
       "      <th>instrumentalness</th>\n",
       "      <th>key</th>\n",
       "      <th>liveness</th>\n",
       "      <th>loudness</th>\n",
       "      <th>voice_gender</th>\n",
       "      <th>mode</th>\n",
       "      <th>speechiness</th>\n",
       "      <th>tempo</th>\n",
       "      <th>musician_category</th>\n",
       "      <th>valence</th>\n",
       "      <th>music_genre</th>\n",
       "    </tr>\n",
       "  </thead>\n",
       "  <tbody>\n",
       "    <tr>\n",
       "      <th>0</th>\n",
       "      <td>11591</td>\n",
       "      <td>3140</td>\n",
       "      <td>49.178</td>\n",
       "      <td>0.970522</td>\n",
       "      <td>0.580508</td>\n",
       "      <td>214625.776</td>\n",
       "      <td>0.192107</td>\n",
       "      <td>0.000000</td>\n",
       "      <td>7</td>\n",
       "      <td>0.147134</td>\n",
       "      <td>-14.140</td>\n",
       "      <td>1</td>\n",
       "      <td>1</td>\n",
       "      <td>0.046404</td>\n",
       "      <td>4490</td>\n",
       "      <td>0</td>\n",
       "      <td>0.598965</td>\n",
       "      <td>4</td>\n",
       "    </tr>\n",
       "    <tr>\n",
       "      <th>1</th>\n",
       "      <td>388</td>\n",
       "      <td>477</td>\n",
       "      <td>59.827</td>\n",
       "      <td>1.009380</td>\n",
       "      <td>0.687542</td>\n",
       "      <td>216232.195</td>\n",
       "      <td>0.265942</td>\n",
       "      <td>0.000030</td>\n",
       "      <td>0</td>\n",
       "      <td>0.174655</td>\n",
       "      <td>-13.716</td>\n",
       "      <td>2</td>\n",
       "      <td>0</td>\n",
       "      <td>0.039949</td>\n",
       "      <td>10462</td>\n",
       "      <td>0</td>\n",
       "      <td>0.357194</td>\n",
       "      <td>4</td>\n",
       "    </tr>\n",
       "    <tr>\n",
       "      <th>2</th>\n",
       "      <td>7742</td>\n",
       "      <td>12148</td>\n",
       "      <td>89.023</td>\n",
       "      <td>0.020041</td>\n",
       "      <td>0.967948</td>\n",
       "      <td>273314.723</td>\n",
       "      <td>0.857411</td>\n",
       "      <td>0.000000</td>\n",
       "      <td>5</td>\n",
       "      <td>0.042030</td>\n",
       "      <td>-4.995</td>\n",
       "      <td>1</td>\n",
       "      <td>1</td>\n",
       "      <td>0.119917</td>\n",
       "      <td>521</td>\n",
       "      <td>0</td>\n",
       "      <td>0.635525</td>\n",
       "      <td>5</td>\n",
       "    </tr>\n",
       "    <tr>\n",
       "      <th>3</th>\n",
       "      <td>10375</td>\n",
       "      <td>1734</td>\n",
       "      <td>55.762</td>\n",
       "      <td>0.010284</td>\n",
       "      <td>0.616287</td>\n",
       "      <td>189189.605</td>\n",
       "      <td>0.970513</td>\n",
       "      <td>0.000220</td>\n",
       "      <td>5</td>\n",
       "      <td>0.124637</td>\n",
       "      <td>-4.262</td>\n",
       "      <td>0</td>\n",
       "      <td>1</td>\n",
       "      <td>0.167493</td>\n",
       "      <td>10462</td>\n",
       "      <td>1</td>\n",
       "      <td>0.983750</td>\n",
       "      <td>6</td>\n",
       "    </tr>\n",
       "    <tr>\n",
       "      <th>4</th>\n",
       "      <td>9474</td>\n",
       "      <td>9407</td>\n",
       "      <td>45.095</td>\n",
       "      <td>0.858769</td>\n",
       "      <td>0.280645</td>\n",
       "      <td>410136.987</td>\n",
       "      <td>0.114732</td>\n",
       "      <td>0.002753</td>\n",
       "      <td>9</td>\n",
       "      <td>0.134782</td>\n",
       "      <td>-26.922</td>\n",
       "      <td>1</td>\n",
       "      <td>2</td>\n",
       "      <td>0.039139</td>\n",
       "      <td>1245</td>\n",
       "      <td>0</td>\n",
       "      <td>0.074412</td>\n",
       "      <td>0</td>\n",
       "    </tr>\n",
       "    <tr>\n",
       "      <th>...</th>\n",
       "      <td>...</td>\n",
       "      <td>...</td>\n",
       "      <td>...</td>\n",
       "      <td>...</td>\n",
       "      <td>...</td>\n",
       "      <td>...</td>\n",
       "      <td>...</td>\n",
       "      <td>...</td>\n",
       "      <td>...</td>\n",
       "      <td>...</td>\n",
       "      <td>...</td>\n",
       "      <td>...</td>\n",
       "      <td>...</td>\n",
       "      <td>...</td>\n",
       "      <td>...</td>\n",
       "      <td>...</td>\n",
       "      <td>...</td>\n",
       "      <td>...</td>\n",
       "    </tr>\n",
       "    <tr>\n",
       "      <th>15674</th>\n",
       "      <td>6248</td>\n",
       "      <td>10885</td>\n",
       "      <td>60.240</td>\n",
       "      <td>0.155313</td>\n",
       "      <td>0.742978</td>\n",
       "      <td>102249.147</td>\n",
       "      <td>0.338555</td>\n",
       "      <td>0.592210</td>\n",
       "      <td>6</td>\n",
       "      <td>0.218191</td>\n",
       "      <td>-14.715</td>\n",
       "      <td>2</td>\n",
       "      <td>2</td>\n",
       "      <td>0.055738</td>\n",
       "      <td>4550</td>\n",
       "      <td>2</td>\n",
       "      <td>0.265301</td>\n",
       "      <td>5</td>\n",
       "    </tr>\n",
       "    <tr>\n",
       "      <th>15675</th>\n",
       "      <td>7642</td>\n",
       "      <td>6787</td>\n",
       "      <td>28.318</td>\n",
       "      <td>1.054190</td>\n",
       "      <td>0.136130</td>\n",
       "      <td>188388.500</td>\n",
       "      <td>0.042151</td>\n",
       "      <td>1.024128</td>\n",
       "      <td>10</td>\n",
       "      <td>0.135912</td>\n",
       "      <td>-29.236</td>\n",
       "      <td>1</td>\n",
       "      <td>1</td>\n",
       "      <td>0.057739</td>\n",
       "      <td>7139</td>\n",
       "      <td>2</td>\n",
       "      <td>0.040686</td>\n",
       "      <td>0</td>\n",
       "    </tr>\n",
       "    <tr>\n",
       "      <th>15677</th>\n",
       "      <td>2608</td>\n",
       "      <td>7580</td>\n",
       "      <td>40.514</td>\n",
       "      <td>0.883333</td>\n",
       "      <td>0.459917</td>\n",
       "      <td>378128.464</td>\n",
       "      <td>0.349263</td>\n",
       "      <td>0.000519</td>\n",
       "      <td>8</td>\n",
       "      <td>0.681492</td>\n",
       "      <td>-25.087</td>\n",
       "      <td>0</td>\n",
       "      <td>1</td>\n",
       "      <td>0.448377</td>\n",
       "      <td>3040</td>\n",
       "      <td>1</td>\n",
       "      <td>0.609022</td>\n",
       "      <td>4</td>\n",
       "    </tr>\n",
       "    <tr>\n",
       "      <th>15679</th>\n",
       "      <td>12784</td>\n",
       "      <td>9849</td>\n",
       "      <td>59.693</td>\n",
       "      <td>0.113408</td>\n",
       "      <td>0.644554</td>\n",
       "      <td>151226.592</td>\n",
       "      <td>0.912201</td>\n",
       "      <td>0.000089</td>\n",
       "      <td>8</td>\n",
       "      <td>0.166336</td>\n",
       "      <td>-7.257</td>\n",
       "      <td>0</td>\n",
       "      <td>2</td>\n",
       "      <td>0.060308</td>\n",
       "      <td>1617</td>\n",
       "      <td>1</td>\n",
       "      <td>0.402700</td>\n",
       "      <td>6</td>\n",
       "    </tr>\n",
       "    <tr>\n",
       "      <th>15680</th>\n",
       "      <td>4249</td>\n",
       "      <td>2738</td>\n",
       "      <td>56.518</td>\n",
       "      <td>0.847136</td>\n",
       "      <td>0.502160</td>\n",
       "      <td>190735.191</td>\n",
       "      <td>0.470057</td>\n",
       "      <td>0.502878</td>\n",
       "      <td>8</td>\n",
       "      <td>0.143114</td>\n",
       "      <td>-11.043</td>\n",
       "      <td>1</td>\n",
       "      <td>1</td>\n",
       "      <td>0.029906</td>\n",
       "      <td>9742</td>\n",
       "      <td>2</td>\n",
       "      <td>0.358777</td>\n",
       "      <td>0</td>\n",
       "    </tr>\n",
       "  </tbody>\n",
       "</table>\n",
       "<p>13141 rows × 18 columns</p>\n",
       "</div>"
      ],
      "text/plain": [
       "       instance_id  track_name  popularity  acousticness  danceability  \\\n",
       "0            11591        3140      49.178      0.970522      0.580508   \n",
       "1              388         477      59.827      1.009380      0.687542   \n",
       "2             7742       12148      89.023      0.020041      0.967948   \n",
       "3            10375        1734      55.762      0.010284      0.616287   \n",
       "4             9474        9407      45.095      0.858769      0.280645   \n",
       "...            ...         ...         ...           ...           ...   \n",
       "15674         6248       10885      60.240      0.155313      0.742978   \n",
       "15675         7642        6787      28.318      1.054190      0.136130   \n",
       "15677         2608        7580      40.514      0.883333      0.459917   \n",
       "15679        12784        9849      59.693      0.113408      0.644554   \n",
       "15680         4249        2738      56.518      0.847136      0.502160   \n",
       "\n",
       "       duration_ms    energy  instrumentalness  key  liveness  loudness  \\\n",
       "0       214625.776  0.192107          0.000000    7  0.147134   -14.140   \n",
       "1       216232.195  0.265942          0.000030    0  0.174655   -13.716   \n",
       "2       273314.723  0.857411          0.000000    5  0.042030    -4.995   \n",
       "3       189189.605  0.970513          0.000220    5  0.124637    -4.262   \n",
       "4       410136.987  0.114732          0.002753    9  0.134782   -26.922   \n",
       "...            ...       ...               ...  ...       ...       ...   \n",
       "15674   102249.147  0.338555          0.592210    6  0.218191   -14.715   \n",
       "15675   188388.500  0.042151          1.024128   10  0.135912   -29.236   \n",
       "15677   378128.464  0.349263          0.000519    8  0.681492   -25.087   \n",
       "15679   151226.592  0.912201          0.000089    8  0.166336    -7.257   \n",
       "15680   190735.191  0.470057          0.502878    8  0.143114   -11.043   \n",
       "\n",
       "       voice_gender  mode  speechiness  tempo  musician_category   valence  \\\n",
       "0                 1     1     0.046404   4490                  0  0.598965   \n",
       "1                 2     0     0.039949  10462                  0  0.357194   \n",
       "2                 1     1     0.119917    521                  0  0.635525   \n",
       "3                 0     1     0.167493  10462                  1  0.983750   \n",
       "4                 1     2     0.039139   1245                  0  0.074412   \n",
       "...             ...   ...          ...    ...                ...       ...   \n",
       "15674             2     2     0.055738   4550                  2  0.265301   \n",
       "15675             1     1     0.057739   7139                  2  0.040686   \n",
       "15677             0     1     0.448377   3040                  1  0.609022   \n",
       "15679             0     2     0.060308   1617                  1  0.402700   \n",
       "15680             1     1     0.029906   9742                  2  0.358777   \n",
       "\n",
       "       music_genre  \n",
       "0                4  \n",
       "1                4  \n",
       "2                5  \n",
       "3                6  \n",
       "4                0  \n",
       "...            ...  \n",
       "15674            5  \n",
       "15675            0  \n",
       "15677            4  \n",
       "15679            6  \n",
       "15680            0  \n",
       "\n",
       "[13141 rows x 18 columns]"
      ]
     },
     "execution_count": 19,
     "metadata": {},
     "output_type": "execute_result"
    }
   ],
   "source": [
    "df"
   ]
  },
  {
   "cell_type": "markdown",
   "id": "9a37c7ba",
   "metadata": {},
   "source": [
    "# Scaling"
   ]
  },
  {
   "cell_type": "markdown",
   "id": "65a060e6",
   "metadata": {},
   "source": [
    "Scaling numerical variables"
   ]
  },
  {
   "cell_type": "code",
   "execution_count": 20,
   "id": "67a7751d",
   "metadata": {},
   "outputs": [
    {
     "name": "stderr",
     "output_type": "stream",
     "text": [
      "C:\\Users\\SREELAKSHMI\\AppData\\Local\\Temp\\ipykernel_11240\\1854845740.py:5: SettingWithCopyWarning: \n",
      "A value is trying to be set on a copy of a slice from a DataFrame.\n",
      "Try using .loc[row_indexer,col_indexer] = value instead\n",
      "\n",
      "See the caveats in the documentation: https://pandas.pydata.org/pandas-docs/stable/user_guide/indexing.html#returning-a-view-versus-a-copy\n",
      "  df[num_cols] = scaler.fit_transform(df[num_cols])\n"
     ]
    }
   ],
   "source": [
    "from sklearn.preprocessing import StandardScaler\n",
    "num_cols = ['popularity', 'acousticness', 'danceability', 'duration_ms', 'energy', 'instrumentalness',\n",
    "       'liveness', 'loudness', 'speechiness', 'valence']\n",
    "scaler = StandardScaler()\n",
    "df[num_cols] = scaler.fit_transform(df[num_cols])"
   ]
  },
  {
   "cell_type": "code",
   "execution_count": 21,
   "id": "a7952903",
   "metadata": {},
   "outputs": [
    {
     "data": {
      "text/html": [
       "<div>\n",
       "<style scoped>\n",
       "    .dataframe tbody tr th:only-of-type {\n",
       "        vertical-align: middle;\n",
       "    }\n",
       "\n",
       "    .dataframe tbody tr th {\n",
       "        vertical-align: top;\n",
       "    }\n",
       "\n",
       "    .dataframe thead th {\n",
       "        text-align: right;\n",
       "    }\n",
       "</style>\n",
       "<table border=\"1\" class=\"dataframe\">\n",
       "  <thead>\n",
       "    <tr style=\"text-align: right;\">\n",
       "      <th></th>\n",
       "      <th>instance_id</th>\n",
       "      <th>track_name</th>\n",
       "      <th>popularity</th>\n",
       "      <th>acousticness</th>\n",
       "      <th>danceability</th>\n",
       "      <th>duration_ms</th>\n",
       "      <th>energy</th>\n",
       "      <th>instrumentalness</th>\n",
       "      <th>key</th>\n",
       "      <th>liveness</th>\n",
       "      <th>loudness</th>\n",
       "      <th>voice_gender</th>\n",
       "      <th>mode</th>\n",
       "      <th>speechiness</th>\n",
       "      <th>tempo</th>\n",
       "      <th>musician_category</th>\n",
       "      <th>valence</th>\n",
       "      <th>music_genre</th>\n",
       "    </tr>\n",
       "  </thead>\n",
       "  <tbody>\n",
       "    <tr>\n",
       "      <th>0</th>\n",
       "      <td>11591</td>\n",
       "      <td>3140</td>\n",
       "      <td>-0.165045</td>\n",
       "      <td>1.344836</td>\n",
       "      <td>-0.025381</td>\n",
       "      <td>-0.449038</td>\n",
       "      <td>-0.487301</td>\n",
       "      <td>-0.616443</td>\n",
       "      <td>7</td>\n",
       "      <td>-0.298519</td>\n",
       "      <td>-0.365100</td>\n",
       "      <td>1</td>\n",
       "      <td>1</td>\n",
       "      <td>-0.488177</td>\n",
       "      <td>4490</td>\n",
       "      <td>0</td>\n",
       "      <td>0.493885</td>\n",
       "      <td>4</td>\n",
       "    </tr>\n",
       "    <tr>\n",
       "      <th>1</th>\n",
       "      <td>388</td>\n",
       "      <td>477</td>\n",
       "      <td>0.461993</td>\n",
       "      <td>1.440012</td>\n",
       "      <td>0.498201</td>\n",
       "      <td>-0.427572</td>\n",
       "      <td>-0.344076</td>\n",
       "      <td>-0.616364</td>\n",
       "      <td>0</td>\n",
       "      <td>-0.125108</td>\n",
       "      <td>-0.314467</td>\n",
       "      <td>2</td>\n",
       "      <td>0</td>\n",
       "      <td>-0.547663</td>\n",
       "      <td>10462</td>\n",
       "      <td>0</td>\n",
       "      <td>-0.409906</td>\n",
       "      <td>4</td>\n",
       "    </tr>\n",
       "    <tr>\n",
       "      <th>2</th>\n",
       "      <td>7742</td>\n",
       "      <td>12148</td>\n",
       "      <td>2.181123</td>\n",
       "      <td>-0.983247</td>\n",
       "      <td>1.869877</td>\n",
       "      <td>0.335199</td>\n",
       "      <td>0.803257</td>\n",
       "      <td>-0.616443</td>\n",
       "      <td>5</td>\n",
       "      <td>-0.960801</td>\n",
       "      <td>0.726964</td>\n",
       "      <td>1</td>\n",
       "      <td>1</td>\n",
       "      <td>0.189308</td>\n",
       "      <td>521</td>\n",
       "      <td>0</td>\n",
       "      <td>0.630556</td>\n",
       "      <td>5</td>\n",
       "    </tr>\n",
       "    <tr>\n",
       "      <th>3</th>\n",
       "      <td>10375</td>\n",
       "      <td>1734</td>\n",
       "      <td>0.222636</td>\n",
       "      <td>-1.007146</td>\n",
       "      <td>0.149643</td>\n",
       "      <td>-0.788932</td>\n",
       "      <td>1.022653</td>\n",
       "      <td>-0.615869</td>\n",
       "      <td>5</td>\n",
       "      <td>-0.440277</td>\n",
       "      <td>0.814497</td>\n",
       "      <td>0</td>\n",
       "      <td>1</td>\n",
       "      <td>0.627766</td>\n",
       "      <td>10462</td>\n",
       "      <td>1</td>\n",
       "      <td>1.932293</td>\n",
       "      <td>6</td>\n",
       "    </tr>\n",
       "    <tr>\n",
       "      <th>4</th>\n",
       "      <td>9474</td>\n",
       "      <td>9407</td>\n",
       "      <td>-0.405462</td>\n",
       "      <td>1.071110</td>\n",
       "      <td>-1.492230</td>\n",
       "      <td>2.163502</td>\n",
       "      <td>-0.637394</td>\n",
       "      <td>-0.609255</td>\n",
       "      <td>9</td>\n",
       "      <td>-0.376352</td>\n",
       "      <td>-1.891482</td>\n",
       "      <td>1</td>\n",
       "      <td>2</td>\n",
       "      <td>-0.555124</td>\n",
       "      <td>1245</td>\n",
       "      <td>0</td>\n",
       "      <td>-1.467004</td>\n",
       "      <td>0</td>\n",
       "    </tr>\n",
       "    <tr>\n",
       "      <th>...</th>\n",
       "      <td>...</td>\n",
       "      <td>...</td>\n",
       "      <td>...</td>\n",
       "      <td>...</td>\n",
       "      <td>...</td>\n",
       "      <td>...</td>\n",
       "      <td>...</td>\n",
       "      <td>...</td>\n",
       "      <td>...</td>\n",
       "      <td>...</td>\n",
       "      <td>...</td>\n",
       "      <td>...</td>\n",
       "      <td>...</td>\n",
       "      <td>...</td>\n",
       "      <td>...</td>\n",
       "      <td>...</td>\n",
       "      <td>...</td>\n",
       "      <td>...</td>\n",
       "    </tr>\n",
       "    <tr>\n",
       "      <th>15674</th>\n",
       "      <td>6248</td>\n",
       "      <td>10885</td>\n",
       "      <td>0.486312</td>\n",
       "      <td>-0.651916</td>\n",
       "      <td>0.769379</td>\n",
       "      <td>-1.950684</td>\n",
       "      <td>-0.203222</td>\n",
       "      <td>0.929741</td>\n",
       "      <td>6</td>\n",
       "      <td>0.149224</td>\n",
       "      <td>-0.433765</td>\n",
       "      <td>2</td>\n",
       "      <td>2</td>\n",
       "      <td>-0.402154</td>\n",
       "      <td>4550</td>\n",
       "      <td>2</td>\n",
       "      <td>-0.753419</td>\n",
       "      <td>5</td>\n",
       "    </tr>\n",
       "    <tr>\n",
       "      <th>15675</th>\n",
       "      <td>7642</td>\n",
       "      <td>6787</td>\n",
       "      <td>-1.393332</td>\n",
       "      <td>1.549769</td>\n",
       "      <td>-2.199159</td>\n",
       "      <td>-0.799637</td>\n",
       "      <td>-0.778186</td>\n",
       "      <td>2.057422</td>\n",
       "      <td>10</td>\n",
       "      <td>-0.369231</td>\n",
       "      <td>-2.167812</td>\n",
       "      <td>1</td>\n",
       "      <td>1</td>\n",
       "      <td>-0.383712</td>\n",
       "      <td>7139</td>\n",
       "      <td>2</td>\n",
       "      <td>-1.593078</td>\n",
       "      <td>0</td>\n",
       "    </tr>\n",
       "    <tr>\n",
       "      <th>15677</th>\n",
       "      <td>2608</td>\n",
       "      <td>7580</td>\n",
       "      <td>-0.675202</td>\n",
       "      <td>1.131277</td>\n",
       "      <td>-0.615280</td>\n",
       "      <td>1.735785</td>\n",
       "      <td>-0.182449</td>\n",
       "      <td>-0.615088</td>\n",
       "      <td>8</td>\n",
       "      <td>3.068561</td>\n",
       "      <td>-1.672353</td>\n",
       "      <td>0</td>\n",
       "      <td>1</td>\n",
       "      <td>3.216336</td>\n",
       "      <td>3040</td>\n",
       "      <td>1</td>\n",
       "      <td>0.531480</td>\n",
       "      <td>4</td>\n",
       "    </tr>\n",
       "    <tr>\n",
       "      <th>15679</th>\n",
       "      <td>12784</td>\n",
       "      <td>9849</td>\n",
       "      <td>0.454103</td>\n",
       "      <td>-0.754558</td>\n",
       "      <td>0.287915</td>\n",
       "      <td>-1.296217</td>\n",
       "      <td>0.909540</td>\n",
       "      <td>-0.616211</td>\n",
       "      <td>8</td>\n",
       "      <td>-0.177526</td>\n",
       "      <td>0.456844</td>\n",
       "      <td>0</td>\n",
       "      <td>2</td>\n",
       "      <td>-0.360036</td>\n",
       "      <td>1617</td>\n",
       "      <td>1</td>\n",
       "      <td>-0.239794</td>\n",
       "      <td>6</td>\n",
       "    </tr>\n",
       "    <tr>\n",
       "      <th>15680</th>\n",
       "      <td>4249</td>\n",
       "      <td>2738</td>\n",
       "      <td>0.267151</td>\n",
       "      <td>1.042617</td>\n",
       "      <td>-0.408637</td>\n",
       "      <td>-0.768279</td>\n",
       "      <td>0.051867</td>\n",
       "      <td>0.696507</td>\n",
       "      <td>8</td>\n",
       "      <td>-0.323854</td>\n",
       "      <td>0.004733</td>\n",
       "      <td>1</td>\n",
       "      <td>1</td>\n",
       "      <td>-0.640217</td>\n",
       "      <td>9742</td>\n",
       "      <td>2</td>\n",
       "      <td>-0.403986</td>\n",
       "      <td>0</td>\n",
       "    </tr>\n",
       "  </tbody>\n",
       "</table>\n",
       "<p>13141 rows × 18 columns</p>\n",
       "</div>"
      ],
      "text/plain": [
       "       instance_id  track_name  popularity  acousticness  danceability  \\\n",
       "0            11591        3140   -0.165045      1.344836     -0.025381   \n",
       "1              388         477    0.461993      1.440012      0.498201   \n",
       "2             7742       12148    2.181123     -0.983247      1.869877   \n",
       "3            10375        1734    0.222636     -1.007146      0.149643   \n",
       "4             9474        9407   -0.405462      1.071110     -1.492230   \n",
       "...            ...         ...         ...           ...           ...   \n",
       "15674         6248       10885    0.486312     -0.651916      0.769379   \n",
       "15675         7642        6787   -1.393332      1.549769     -2.199159   \n",
       "15677         2608        7580   -0.675202      1.131277     -0.615280   \n",
       "15679        12784        9849    0.454103     -0.754558      0.287915   \n",
       "15680         4249        2738    0.267151      1.042617     -0.408637   \n",
       "\n",
       "       duration_ms    energy  instrumentalness  key  liveness  loudness  \\\n",
       "0        -0.449038 -0.487301         -0.616443    7 -0.298519 -0.365100   \n",
       "1        -0.427572 -0.344076         -0.616364    0 -0.125108 -0.314467   \n",
       "2         0.335199  0.803257         -0.616443    5 -0.960801  0.726964   \n",
       "3        -0.788932  1.022653         -0.615869    5 -0.440277  0.814497   \n",
       "4         2.163502 -0.637394         -0.609255    9 -0.376352 -1.891482   \n",
       "...            ...       ...               ...  ...       ...       ...   \n",
       "15674    -1.950684 -0.203222          0.929741    6  0.149224 -0.433765   \n",
       "15675    -0.799637 -0.778186          2.057422   10 -0.369231 -2.167812   \n",
       "15677     1.735785 -0.182449         -0.615088    8  3.068561 -1.672353   \n",
       "15679    -1.296217  0.909540         -0.616211    8 -0.177526  0.456844   \n",
       "15680    -0.768279  0.051867          0.696507    8 -0.323854  0.004733   \n",
       "\n",
       "       voice_gender  mode  speechiness  tempo  musician_category   valence  \\\n",
       "0                 1     1    -0.488177   4490                  0  0.493885   \n",
       "1                 2     0    -0.547663  10462                  0 -0.409906   \n",
       "2                 1     1     0.189308    521                  0  0.630556   \n",
       "3                 0     1     0.627766  10462                  1  1.932293   \n",
       "4                 1     2    -0.555124   1245                  0 -1.467004   \n",
       "...             ...   ...          ...    ...                ...       ...   \n",
       "15674             2     2    -0.402154   4550                  2 -0.753419   \n",
       "15675             1     1    -0.383712   7139                  2 -1.593078   \n",
       "15677             0     1     3.216336   3040                  1  0.531480   \n",
       "15679             0     2    -0.360036   1617                  1 -0.239794   \n",
       "15680             1     1    -0.640217   9742                  2 -0.403986   \n",
       "\n",
       "       music_genre  \n",
       "0                4  \n",
       "1                4  \n",
       "2                5  \n",
       "3                6  \n",
       "4                0  \n",
       "...            ...  \n",
       "15674            5  \n",
       "15675            0  \n",
       "15677            4  \n",
       "15679            6  \n",
       "15680            0  \n",
       "\n",
       "[13141 rows x 18 columns]"
      ]
     },
     "execution_count": 21,
     "metadata": {},
     "output_type": "execute_result"
    }
   ],
   "source": [
    "df"
   ]
  },
  {
   "cell_type": "markdown",
   "id": "cf96326e",
   "metadata": {},
   "source": [
    "Dropping unique column"
   ]
  },
  {
   "cell_type": "code",
   "execution_count": 22,
   "id": "d3f56dc8",
   "metadata": {},
   "outputs": [
    {
     "data": {
      "text/plain": [
       "13141"
      ]
     },
     "execution_count": 22,
     "metadata": {},
     "output_type": "execute_result"
    }
   ],
   "source": [
    "df['instance_id'].nunique()"
   ]
  },
  {
   "cell_type": "markdown",
   "id": "3334a2ec",
   "metadata": {},
   "source": [
    "# Splitting Dataset "
   ]
  },
  {
   "cell_type": "code",
   "execution_count": 23,
   "id": "8c8fc7ad",
   "metadata": {},
   "outputs": [],
   "source": [
    "x=df.drop(['music_genre','instance_id'], axis=1)\n",
    "y=df['music_genre']"
   ]
  },
  {
   "cell_type": "code",
   "execution_count": 24,
   "id": "4ea8d21f",
   "metadata": {},
   "outputs": [],
   "source": [
    "from sklearn.model_selection import train_test_split\n",
    "x_train,x_test,y_train,y_test = train_test_split(x,y,test_size=.2,random_state=42)"
   ]
  },
  {
   "cell_type": "markdown",
   "id": "0292a6af",
   "metadata": {},
   "source": [
    "# Logistic_regression"
   ]
  },
  {
   "cell_type": "code",
   "execution_count": 25,
   "id": "09d4d904",
   "metadata": {},
   "outputs": [
    {
     "name": "stderr",
     "output_type": "stream",
     "text": [
      "C:\\Users\\SREELAKSHMI\\anaconda3\\lib\\site-packages\\sklearn\\linear_model\\_logistic.py:458: ConvergenceWarning: lbfgs failed to converge (status=1):\n",
      "STOP: TOTAL NO. of ITERATIONS REACHED LIMIT.\n",
      "\n",
      "Increase the number of iterations (max_iter) or scale the data as shown in:\n",
      "    https://scikit-learn.org/stable/modules/preprocessing.html\n",
      "Please also refer to the documentation for alternative solver options:\n",
      "    https://scikit-learn.org/stable/modules/linear_model.html#logistic-regression\n",
      "  n_iter_i = _check_optimize_result(\n"
     ]
    }
   ],
   "source": [
    "from sklearn.linear_model import LogisticRegression\n",
    "logit_reg = LogisticRegression()\n",
    "logit_reg.fit(x_train,y_train)\n",
    "y_pred_lr=logit_reg.predict(x_test)"
   ]
  },
  {
   "cell_type": "code",
   "execution_count": 26,
   "id": "54006120",
   "metadata": {},
   "outputs": [],
   "source": [
    "from sklearn.metrics import confusion_matrix,accuracy_score,precision_score,recall_score,f1_score"
   ]
  },
  {
   "cell_type": "code",
   "execution_count": 27,
   "id": "6c1d4f43",
   "metadata": {},
   "outputs": [
    {
     "name": "stdout",
     "output_type": "stream",
     "text": [
      "accuracy = 0.6439710916698365\n"
     ]
    }
   ],
   "source": [
    "print('accuracy =',accuracy_score(y_test,y_pred_lr))\n"
   ]
  },
  {
   "cell_type": "code",
   "execution_count": 28,
   "id": "57399094",
   "metadata": {},
   "outputs": [
    {
     "data": {
      "text/plain": [
       "array([[495,   1,   1,   0,  46,   1,  38],\n",
       "       [  4,   0,   1,   2,  23,   7,  92],\n",
       "       [  8,   0,   2,   1,  39,  35,  30],\n",
       "       [  0,   0,   0,   1,   1,  56,  23],\n",
       "       [100,   0,   3,   0, 233,  37,  82],\n",
       "       [  2,   0,   0,   1,  10, 358, 196],\n",
       "       [ 21,   0,   3,   3,  40,  29, 604]], dtype=int64)"
      ]
     },
     "execution_count": 28,
     "metadata": {},
     "output_type": "execute_result"
    }
   ],
   "source": [
    "confusion_matrix(y_test,y_pred_lr)"
   ]
  },
  {
   "cell_type": "markdown",
   "id": "75d4bb98",
   "metadata": {},
   "source": [
    "# Decision Tree"
   ]
  },
  {
   "cell_type": "code",
   "execution_count": 42,
   "id": "b610c1d6",
   "metadata": {},
   "outputs": [],
   "source": [
    "from sklearn.tree import DecisionTreeClassifier\n",
    "tree = DecisionTreeClassifier()\n",
    "tree.fit(x_train,y_train)\n",
    "pred_cv_tree = tree.predict(x_test)"
   ]
  },
  {
   "cell_type": "code",
   "execution_count": 43,
   "id": "bca25056",
   "metadata": {},
   "outputs": [
    {
     "name": "stdout",
     "output_type": "stream",
     "text": [
      "accuracy =  0.6314187904146064\n",
      "precision =  0.5060406004669219\n",
      "recall =  0.500743615624954\n",
      "f1 score =  0.5017937987387564\n"
     ]
    },
    {
     "data": {
      "text/plain": [
       "array([[471,   5,   9,   0,  88,   1,   8],\n",
       "       [  2,  50,   5,   1,  25,  11,  35],\n",
       "       [  9,   8,  32,   2,  47,   6,  11],\n",
       "       [  0,   3,   1,  10,   8,  51,   8],\n",
       "       [ 76,  18,  27,   5, 281,  12,  36],\n",
       "       [  4,   5,   2,  64,  22, 368, 102],\n",
       "       [ 10,  46,  11,  18,  48, 119, 448]], dtype=int64)"
      ]
     },
     "execution_count": 43,
     "metadata": {},
     "output_type": "execute_result"
    }
   ],
   "source": [
    "print('accuracy = ',accuracy_score(y_test, pred_cv_tree))\n",
    "print('precision = ', precision_score(y_test, pred_cv_tree, average='macro'))\n",
    "print('recall = ', recall_score(y_test, pred_cv_tree, average='macro'))\n",
    "print('f1 score = ', f1_score(y_test, pred_cv_tree, average='macro'))\n",
    "confusion_matrix(y_test, pred_cv_tree)\n",
    "\n",
    "\n"
   ]
  },
  {
   "cell_type": "markdown",
   "id": "68a337b2",
   "metadata": {},
   "source": [
    "# Random forest"
   ]
  },
  {
   "cell_type": "code",
   "execution_count": 44,
   "id": "0796f75f",
   "metadata": {},
   "outputs": [
    {
     "data": {
      "text/html": [
       "<style>#sk-container-id-1 {color: black;background-color: white;}#sk-container-id-1 pre{padding: 0;}#sk-container-id-1 div.sk-toggleable {background-color: white;}#sk-container-id-1 label.sk-toggleable__label {cursor: pointer;display: block;width: 100%;margin-bottom: 0;padding: 0.3em;box-sizing: border-box;text-align: center;}#sk-container-id-1 label.sk-toggleable__label-arrow:before {content: \"▸\";float: left;margin-right: 0.25em;color: #696969;}#sk-container-id-1 label.sk-toggleable__label-arrow:hover:before {color: black;}#sk-container-id-1 div.sk-estimator:hover label.sk-toggleable__label-arrow:before {color: black;}#sk-container-id-1 div.sk-toggleable__content {max-height: 0;max-width: 0;overflow: hidden;text-align: left;background-color: #f0f8ff;}#sk-container-id-1 div.sk-toggleable__content pre {margin: 0.2em;color: black;border-radius: 0.25em;background-color: #f0f8ff;}#sk-container-id-1 input.sk-toggleable__control:checked~div.sk-toggleable__content {max-height: 200px;max-width: 100%;overflow: auto;}#sk-container-id-1 input.sk-toggleable__control:checked~label.sk-toggleable__label-arrow:before {content: \"▾\";}#sk-container-id-1 div.sk-estimator input.sk-toggleable__control:checked~label.sk-toggleable__label {background-color: #d4ebff;}#sk-container-id-1 div.sk-label input.sk-toggleable__control:checked~label.sk-toggleable__label {background-color: #d4ebff;}#sk-container-id-1 input.sk-hidden--visually {border: 0;clip: rect(1px 1px 1px 1px);clip: rect(1px, 1px, 1px, 1px);height: 1px;margin: -1px;overflow: hidden;padding: 0;position: absolute;width: 1px;}#sk-container-id-1 div.sk-estimator {font-family: monospace;background-color: #f0f8ff;border: 1px dotted black;border-radius: 0.25em;box-sizing: border-box;margin-bottom: 0.5em;}#sk-container-id-1 div.sk-estimator:hover {background-color: #d4ebff;}#sk-container-id-1 div.sk-parallel-item::after {content: \"\";width: 100%;border-bottom: 1px solid gray;flex-grow: 1;}#sk-container-id-1 div.sk-label:hover label.sk-toggleable__label {background-color: #d4ebff;}#sk-container-id-1 div.sk-serial::before {content: \"\";position: absolute;border-left: 1px solid gray;box-sizing: border-box;top: 0;bottom: 0;left: 50%;z-index: 0;}#sk-container-id-1 div.sk-serial {display: flex;flex-direction: column;align-items: center;background-color: white;padding-right: 0.2em;padding-left: 0.2em;position: relative;}#sk-container-id-1 div.sk-item {position: relative;z-index: 1;}#sk-container-id-1 div.sk-parallel {display: flex;align-items: stretch;justify-content: center;background-color: white;position: relative;}#sk-container-id-1 div.sk-item::before, #sk-container-id-1 div.sk-parallel-item::before {content: \"\";position: absolute;border-left: 1px solid gray;box-sizing: border-box;top: 0;bottom: 0;left: 50%;z-index: -1;}#sk-container-id-1 div.sk-parallel-item {display: flex;flex-direction: column;z-index: 1;position: relative;background-color: white;}#sk-container-id-1 div.sk-parallel-item:first-child::after {align-self: flex-end;width: 50%;}#sk-container-id-1 div.sk-parallel-item:last-child::after {align-self: flex-start;width: 50%;}#sk-container-id-1 div.sk-parallel-item:only-child::after {width: 0;}#sk-container-id-1 div.sk-dashed-wrapped {border: 1px dashed gray;margin: 0 0.4em 0.5em 0.4em;box-sizing: border-box;padding-bottom: 0.4em;background-color: white;}#sk-container-id-1 div.sk-label label {font-family: monospace;font-weight: bold;display: inline-block;line-height: 1.2em;}#sk-container-id-1 div.sk-label-container {text-align: center;}#sk-container-id-1 div.sk-container {/* jupyter's `normalize.less` sets `[hidden] { display: none; }` but bootstrap.min.css set `[hidden] { display: none !important; }` so we also need the `!important` here to be able to override the default hidden behavior on the sphinx rendered scikit-learn.org. See: https://github.com/scikit-learn/scikit-learn/issues/21755 */display: inline-block !important;position: relative;}#sk-container-id-1 div.sk-text-repr-fallback {display: none;}</style><div id=\"sk-container-id-1\" class=\"sk-top-container\"><div class=\"sk-text-repr-fallback\"><pre>RandomForestClassifier()</pre><b>In a Jupyter environment, please rerun this cell to show the HTML representation or trust the notebook. <br />On GitHub, the HTML representation is unable to render, please try loading this page with nbviewer.org.</b></div><div class=\"sk-container\" hidden><div class=\"sk-item\"><div class=\"sk-estimator sk-toggleable\"><input class=\"sk-toggleable__control sk-hidden--visually\" id=\"sk-estimator-id-1\" type=\"checkbox\" checked><label for=\"sk-estimator-id-1\" class=\"sk-toggleable__label sk-toggleable__label-arrow\">RandomForestClassifier</label><div class=\"sk-toggleable__content\"><pre>RandomForestClassifier()</pre></div></div></div></div></div>"
      ],
      "text/plain": [
       "RandomForestClassifier()"
      ]
     },
     "execution_count": 44,
     "metadata": {},
     "output_type": "execute_result"
    }
   ],
   "source": [
    "from sklearn.ensemble import RandomForestClassifier\n",
    "rf = RandomForestClassifier()\n",
    "rf.fit(x_train,y_train)"
   ]
  },
  {
   "cell_type": "code",
   "execution_count": 45,
   "id": "549f2819",
   "metadata": {},
   "outputs": [],
   "source": [
    "pred_rf = rf.predict(x_test)"
   ]
  },
  {
   "cell_type": "code",
   "execution_count": 46,
   "id": "dd613fe6",
   "metadata": {},
   "outputs": [
    {
     "name": "stdout",
     "output_type": "stream",
     "text": [
      "accuracy =  0.7584632940281476\n",
      "precision =  0.6441581135278601\n",
      "recall =  0.5682048428472745\n",
      "f1 score =  0.5846848058580628\n"
     ]
    },
    {
     "data": {
      "text/plain": [
       "array([[502,   3,   5,   0,  63,   1,   8],\n",
       "       [  0,  48,   1,   0,  30,   5,  45],\n",
       "       [  6,   2,  36,   0,  53,   7,  11],\n",
       "       [  0,   1,   0,   0,   5,  64,  11],\n",
       "       [ 53,   0,   9,   0, 343,  12,  38],\n",
       "       [  0,   0,   2,   6,   8, 461,  90],\n",
       "       [  6,   7,   0,   0,  19,  64, 604]], dtype=int64)"
      ]
     },
     "execution_count": 46,
     "metadata": {},
     "output_type": "execute_result"
    }
   ],
   "source": [
    "print('accuracy = ',accuracy_score(y_test, pred_rf))\n",
    "print('precision = ', precision_score(y_test, pred_rf, average='macro'))\n",
    "print('recall = ', recall_score(y_test, pred_rf, average='macro'))\n",
    "print('f1 score = ', f1_score(y_test, pred_rf, average='macro'))\n",
    "confusion_matrix(y_test, pred_rf)"
   ]
  },
  {
   "cell_type": "code",
   "execution_count": 47,
   "id": "bfb52d94",
   "metadata": {},
   "outputs": [
    {
     "data": {
      "text/html": [
       "<style>#sk-container-id-2 {color: black;background-color: white;}#sk-container-id-2 pre{padding: 0;}#sk-container-id-2 div.sk-toggleable {background-color: white;}#sk-container-id-2 label.sk-toggleable__label {cursor: pointer;display: block;width: 100%;margin-bottom: 0;padding: 0.3em;box-sizing: border-box;text-align: center;}#sk-container-id-2 label.sk-toggleable__label-arrow:before {content: \"▸\";float: left;margin-right: 0.25em;color: #696969;}#sk-container-id-2 label.sk-toggleable__label-arrow:hover:before {color: black;}#sk-container-id-2 div.sk-estimator:hover label.sk-toggleable__label-arrow:before {color: black;}#sk-container-id-2 div.sk-toggleable__content {max-height: 0;max-width: 0;overflow: hidden;text-align: left;background-color: #f0f8ff;}#sk-container-id-2 div.sk-toggleable__content pre {margin: 0.2em;color: black;border-radius: 0.25em;background-color: #f0f8ff;}#sk-container-id-2 input.sk-toggleable__control:checked~div.sk-toggleable__content {max-height: 200px;max-width: 100%;overflow: auto;}#sk-container-id-2 input.sk-toggleable__control:checked~label.sk-toggleable__label-arrow:before {content: \"▾\";}#sk-container-id-2 div.sk-estimator input.sk-toggleable__control:checked~label.sk-toggleable__label {background-color: #d4ebff;}#sk-container-id-2 div.sk-label input.sk-toggleable__control:checked~label.sk-toggleable__label {background-color: #d4ebff;}#sk-container-id-2 input.sk-hidden--visually {border: 0;clip: rect(1px 1px 1px 1px);clip: rect(1px, 1px, 1px, 1px);height: 1px;margin: -1px;overflow: hidden;padding: 0;position: absolute;width: 1px;}#sk-container-id-2 div.sk-estimator {font-family: monospace;background-color: #f0f8ff;border: 1px dotted black;border-radius: 0.25em;box-sizing: border-box;margin-bottom: 0.5em;}#sk-container-id-2 div.sk-estimator:hover {background-color: #d4ebff;}#sk-container-id-2 div.sk-parallel-item::after {content: \"\";width: 100%;border-bottom: 1px solid gray;flex-grow: 1;}#sk-container-id-2 div.sk-label:hover label.sk-toggleable__label {background-color: #d4ebff;}#sk-container-id-2 div.sk-serial::before {content: \"\";position: absolute;border-left: 1px solid gray;box-sizing: border-box;top: 0;bottom: 0;left: 50%;z-index: 0;}#sk-container-id-2 div.sk-serial {display: flex;flex-direction: column;align-items: center;background-color: white;padding-right: 0.2em;padding-left: 0.2em;position: relative;}#sk-container-id-2 div.sk-item {position: relative;z-index: 1;}#sk-container-id-2 div.sk-parallel {display: flex;align-items: stretch;justify-content: center;background-color: white;position: relative;}#sk-container-id-2 div.sk-item::before, #sk-container-id-2 div.sk-parallel-item::before {content: \"\";position: absolute;border-left: 1px solid gray;box-sizing: border-box;top: 0;bottom: 0;left: 50%;z-index: -1;}#sk-container-id-2 div.sk-parallel-item {display: flex;flex-direction: column;z-index: 1;position: relative;background-color: white;}#sk-container-id-2 div.sk-parallel-item:first-child::after {align-self: flex-end;width: 50%;}#sk-container-id-2 div.sk-parallel-item:last-child::after {align-self: flex-start;width: 50%;}#sk-container-id-2 div.sk-parallel-item:only-child::after {width: 0;}#sk-container-id-2 div.sk-dashed-wrapped {border: 1px dashed gray;margin: 0 0.4em 0.5em 0.4em;box-sizing: border-box;padding-bottom: 0.4em;background-color: white;}#sk-container-id-2 div.sk-label label {font-family: monospace;font-weight: bold;display: inline-block;line-height: 1.2em;}#sk-container-id-2 div.sk-label-container {text-align: center;}#sk-container-id-2 div.sk-container {/* jupyter's `normalize.less` sets `[hidden] { display: none; }` but bootstrap.min.css set `[hidden] { display: none !important; }` so we also need the `!important` here to be able to override the default hidden behavior on the sphinx rendered scikit-learn.org. See: https://github.com/scikit-learn/scikit-learn/issues/21755 */display: inline-block !important;position: relative;}#sk-container-id-2 div.sk-text-repr-fallback {display: none;}</style><div id=\"sk-container-id-2\" class=\"sk-top-container\"><div class=\"sk-text-repr-fallback\"><pre>RandomForestClassifier(criterion=&#x27;entropy&#x27;, max_depth=20, min_samples_split=3,\n",
       "                       n_estimators=10)</pre><b>In a Jupyter environment, please rerun this cell to show the HTML representation or trust the notebook. <br />On GitHub, the HTML representation is unable to render, please try loading this page with nbviewer.org.</b></div><div class=\"sk-container\" hidden><div class=\"sk-item\"><div class=\"sk-estimator sk-toggleable\"><input class=\"sk-toggleable__control sk-hidden--visually\" id=\"sk-estimator-id-2\" type=\"checkbox\" checked><label for=\"sk-estimator-id-2\" class=\"sk-toggleable__label sk-toggleable__label-arrow\">RandomForestClassifier</label><div class=\"sk-toggleable__content\"><pre>RandomForestClassifier(criterion=&#x27;entropy&#x27;, max_depth=20, min_samples_split=3,\n",
       "                       n_estimators=10)</pre></div></div></div></div></div>"
      ],
      "text/plain": [
       "RandomForestClassifier(criterion='entropy', max_depth=20, min_samples_split=3,\n",
       "                       n_estimators=10)"
      ]
     },
     "execution_count": 47,
     "metadata": {},
     "output_type": "execute_result"
    }
   ],
   "source": [
    "rf1 = RandomForestClassifier(n_estimators=10,max_depth=20,criterion='entropy',min_samples_split=3 )\n",
    "rf1.fit(x_train,y_train)"
   ]
  },
  {
   "cell_type": "code",
   "execution_count": 48,
   "id": "92583351",
   "metadata": {},
   "outputs": [
    {
     "name": "stdout",
     "output_type": "stream",
     "text": [
      "accuracy =  0.7360213008748574\n"
     ]
    }
   ],
   "source": [
    "pred_rf1 = rf1.predict(x_test)\n",
    "print('accuracy = ',accuracy_score(y_test, pred_rf1))"
   ]
  },
  {
   "cell_type": "markdown",
   "id": "8599b6b6",
   "metadata": {},
   "source": [
    "Random forest classifier gives more accuracy."
   ]
  },
  {
   "cell_type": "code",
   "execution_count": null,
   "id": "94a70e78",
   "metadata": {},
   "outputs": [],
   "source": []
  }
 ],
 "metadata": {
  "kernelspec": {
   "display_name": "Python 3 (ipykernel)",
   "language": "python",
   "name": "python3"
  },
  "language_info": {
   "codemirror_mode": {
    "name": "ipython",
    "version": 3
   },
   "file_extension": ".py",
   "mimetype": "text/x-python",
   "name": "python",
   "nbconvert_exporter": "python",
   "pygments_lexer": "ipython3",
   "version": "3.10.9"
  }
 },
 "nbformat": 4,
 "nbformat_minor": 5
}
